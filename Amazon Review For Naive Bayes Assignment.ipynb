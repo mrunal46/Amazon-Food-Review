{
 "cells": [
  {
   "cell_type": "markdown",
   "metadata": {},
   "source": [
    "# Modeling of Naive Bayes Classifier for Amazon Food Review"
   ]
  },
  {
   "cell_type": "code",
   "execution_count": 168,
   "metadata": {},
   "outputs": [],
   "source": [
    "#Importing all the necessary libraries\n",
    "import pandas as pd\n",
    "import numpy as np\n",
    "import sqlite3 as sq\n",
    "import re\n",
    "from nltk.stem import SnowballStemmer\n",
    "from nltk.corpus import stopwords\n",
    "from gensim.models import KeyedVectors\n",
    "from gensim.models import Word2Vec\n",
    "import matplotlib.pyplot as plt\n",
    "from wordcloud import WordCloud\n",
    "from sklearn.model_selection import TimeSeriesSplit , train_test_split\n",
    "from sklearn.feature_extraction.text import CountVectorizer\n",
    "from sklearn.feature_extraction.text import TfidfVectorizer\n",
    "from sklearn.metrics import confusion_matrix,roc_auc_score\n",
    "from sklearn.naive_bayes import MultinomialNB, ComplementNB\n",
    "import pickle\n",
    "from sklearn.model_selection import cross_val_score,cross_validate\n",
    "from sklearn.preprocessing import StandardScaler\n",
    "from sklearn.decomposition import TruncatedSVD\n",
    "from imblearn import over_sampling\n",
    "from tabulate import tabulate as tab\n",
    "import warnings\n",
    "warnings.filterwarnings(\"ignore\")"
   ]
  },
  {
   "cell_type": "code",
   "execution_count": 169,
   "metadata": {},
   "outputs": [],
   "source": [
    "# Establishing a connection with amazon review database in sqlite format.\n",
    "connection = sq.connect(\"database.sqlite\")"
   ]
  },
  {
   "cell_type": "code",
   "execution_count": 170,
   "metadata": {},
   "outputs": [],
   "source": [
    "# Reading the database file using pandas read sql query in AmazonReviewData variable.\n",
    "AmazonReview = pd.read_sql_query(\"\"\"SELECT * FROM Reviews WHERE Score != 3\"\"\" , connection)"
   ]
  },
  {
   "cell_type": "code",
   "execution_count": 171,
   "metadata": {},
   "outputs": [
    {
     "data": {
      "text/plain": [
       "(525814, 10)"
      ]
     },
     "execution_count": 171,
     "metadata": {},
     "output_type": "execute_result"
    }
   ],
   "source": [
    "AmazonReview.shape"
   ]
  },
  {
   "cell_type": "code",
   "execution_count": 172,
   "metadata": {},
   "outputs": [
    {
     "data": {
      "text/html": [
       "<div>\n",
       "<style scoped>\n",
       "    .dataframe tbody tr th:only-of-type {\n",
       "        vertical-align: middle;\n",
       "    }\n",
       "\n",
       "    .dataframe tbody tr th {\n",
       "        vertical-align: top;\n",
       "    }\n",
       "\n",
       "    .dataframe thead th {\n",
       "        text-align: right;\n",
       "    }\n",
       "</style>\n",
       "<table border=\"1\" class=\"dataframe\">\n",
       "  <thead>\n",
       "    <tr style=\"text-align: right;\">\n",
       "      <th></th>\n",
       "      <th>Id</th>\n",
       "      <th>ProductId</th>\n",
       "      <th>UserId</th>\n",
       "      <th>ProfileName</th>\n",
       "      <th>HelpfulnessNumerator</th>\n",
       "      <th>HelpfulnessDenominator</th>\n",
       "      <th>Score</th>\n",
       "      <th>Time</th>\n",
       "      <th>Summary</th>\n",
       "      <th>Text</th>\n",
       "    </tr>\n",
       "  </thead>\n",
       "  <tbody>\n",
       "    <tr>\n",
       "      <th>0</th>\n",
       "      <td>1</td>\n",
       "      <td>B001E4KFG0</td>\n",
       "      <td>A3SGXH7AUHU8GW</td>\n",
       "      <td>delmartian</td>\n",
       "      <td>1</td>\n",
       "      <td>1</td>\n",
       "      <td>5</td>\n",
       "      <td>1303862400</td>\n",
       "      <td>Good Quality Dog Food</td>\n",
       "      <td>I have bought several of the Vitality canned d...</td>\n",
       "    </tr>\n",
       "    <tr>\n",
       "      <th>1</th>\n",
       "      <td>2</td>\n",
       "      <td>B00813GRG4</td>\n",
       "      <td>A1D87F6ZCVE5NK</td>\n",
       "      <td>dll pa</td>\n",
       "      <td>0</td>\n",
       "      <td>0</td>\n",
       "      <td>1</td>\n",
       "      <td>1346976000</td>\n",
       "      <td>Not as Advertised</td>\n",
       "      <td>Product arrived labeled as Jumbo Salted Peanut...</td>\n",
       "    </tr>\n",
       "  </tbody>\n",
       "</table>\n",
       "</div>"
      ],
      "text/plain": [
       "   Id   ProductId          UserId ProfileName  HelpfulnessNumerator  \\\n",
       "0   1  B001E4KFG0  A3SGXH7AUHU8GW  delmartian                     1   \n",
       "1   2  B00813GRG4  A1D87F6ZCVE5NK      dll pa                     0   \n",
       "\n",
       "   HelpfulnessDenominator  Score        Time                Summary  \\\n",
       "0                       1      5  1303862400  Good Quality Dog Food   \n",
       "1                       0      1  1346976000      Not as Advertised   \n",
       "\n",
       "                                                Text  \n",
       "0  I have bought several of the Vitality canned d...  \n",
       "1  Product arrived labeled as Jumbo Salted Peanut...  "
      ]
     },
     "execution_count": 172,
     "metadata": {},
     "output_type": "execute_result"
    }
   ],
   "source": [
    "AmazonReview.head(2)"
   ]
  },
  {
   "cell_type": "markdown",
   "metadata": {},
   "source": [
    "* Replacing the score of the review with positive (score > 3) and negative (score < 3)."
   ]
  },
  {
   "cell_type": "code",
   "execution_count": 173,
   "metadata": {},
   "outputs": [],
   "source": [
    "def Score(num):\n",
    "    if num < 3:\n",
    "        return 'negative'\n",
    "    else:\n",
    "        return 'positive'\n",
    "    "
   ]
  },
  {
   "cell_type": "code",
   "execution_count": 174,
   "metadata": {},
   "outputs": [],
   "source": [
    "score = []\n",
    "\n",
    "for x in range (len(AmazonReview)):\n",
    "    num = Score(AmazonReview['Score'][x])\n",
    "    score.append(num)\n",
    "AmazonReview['Score'] = score"
   ]
  },
  {
   "cell_type": "code",
   "execution_count": 175,
   "metadata": {},
   "outputs": [
    {
     "data": {
      "text/html": [
       "<div>\n",
       "<style scoped>\n",
       "    .dataframe tbody tr th:only-of-type {\n",
       "        vertical-align: middle;\n",
       "    }\n",
       "\n",
       "    .dataframe tbody tr th {\n",
       "        vertical-align: top;\n",
       "    }\n",
       "\n",
       "    .dataframe thead th {\n",
       "        text-align: right;\n",
       "    }\n",
       "</style>\n",
       "<table border=\"1\" class=\"dataframe\">\n",
       "  <thead>\n",
       "    <tr style=\"text-align: right;\">\n",
       "      <th></th>\n",
       "      <th>Id</th>\n",
       "      <th>ProductId</th>\n",
       "      <th>UserId</th>\n",
       "      <th>ProfileName</th>\n",
       "      <th>HelpfulnessNumerator</th>\n",
       "      <th>HelpfulnessDenominator</th>\n",
       "      <th>Score</th>\n",
       "      <th>Time</th>\n",
       "      <th>Summary</th>\n",
       "      <th>Text</th>\n",
       "    </tr>\n",
       "  </thead>\n",
       "  <tbody>\n",
       "    <tr>\n",
       "      <th>0</th>\n",
       "      <td>1</td>\n",
       "      <td>B001E4KFG0</td>\n",
       "      <td>A3SGXH7AUHU8GW</td>\n",
       "      <td>delmartian</td>\n",
       "      <td>1</td>\n",
       "      <td>1</td>\n",
       "      <td>positive</td>\n",
       "      <td>1303862400</td>\n",
       "      <td>Good Quality Dog Food</td>\n",
       "      <td>I have bought several of the Vitality canned d...</td>\n",
       "    </tr>\n",
       "    <tr>\n",
       "      <th>1</th>\n",
       "      <td>2</td>\n",
       "      <td>B00813GRG4</td>\n",
       "      <td>A1D87F6ZCVE5NK</td>\n",
       "      <td>dll pa</td>\n",
       "      <td>0</td>\n",
       "      <td>0</td>\n",
       "      <td>negative</td>\n",
       "      <td>1346976000</td>\n",
       "      <td>Not as Advertised</td>\n",
       "      <td>Product arrived labeled as Jumbo Salted Peanut...</td>\n",
       "    </tr>\n",
       "    <tr>\n",
       "      <th>2</th>\n",
       "      <td>3</td>\n",
       "      <td>B000LQOCH0</td>\n",
       "      <td>ABXLMWJIXXAIN</td>\n",
       "      <td>Natalia Corres \"Natalia Corres\"</td>\n",
       "      <td>1</td>\n",
       "      <td>1</td>\n",
       "      <td>positive</td>\n",
       "      <td>1219017600</td>\n",
       "      <td>\"Delight\" says it all</td>\n",
       "      <td>This is a confection that has been around a fe...</td>\n",
       "    </tr>\n",
       "    <tr>\n",
       "      <th>3</th>\n",
       "      <td>4</td>\n",
       "      <td>B000UA0QIQ</td>\n",
       "      <td>A395BORC6FGVXV</td>\n",
       "      <td>Karl</td>\n",
       "      <td>3</td>\n",
       "      <td>3</td>\n",
       "      <td>negative</td>\n",
       "      <td>1307923200</td>\n",
       "      <td>Cough Medicine</td>\n",
       "      <td>If you are looking for the secret ingredient i...</td>\n",
       "    </tr>\n",
       "    <tr>\n",
       "      <th>4</th>\n",
       "      <td>5</td>\n",
       "      <td>B006K2ZZ7K</td>\n",
       "      <td>A1UQRSCLF8GW1T</td>\n",
       "      <td>Michael D. Bigham \"M. Wassir\"</td>\n",
       "      <td>0</td>\n",
       "      <td>0</td>\n",
       "      <td>positive</td>\n",
       "      <td>1350777600</td>\n",
       "      <td>Great taffy</td>\n",
       "      <td>Great taffy at a great price.  There was a wid...</td>\n",
       "    </tr>\n",
       "  </tbody>\n",
       "</table>\n",
       "</div>"
      ],
      "text/plain": [
       "   Id   ProductId          UserId                      ProfileName  \\\n",
       "0   1  B001E4KFG0  A3SGXH7AUHU8GW                       delmartian   \n",
       "1   2  B00813GRG4  A1D87F6ZCVE5NK                           dll pa   \n",
       "2   3  B000LQOCH0   ABXLMWJIXXAIN  Natalia Corres \"Natalia Corres\"   \n",
       "3   4  B000UA0QIQ  A395BORC6FGVXV                             Karl   \n",
       "4   5  B006K2ZZ7K  A1UQRSCLF8GW1T    Michael D. Bigham \"M. Wassir\"   \n",
       "\n",
       "   HelpfulnessNumerator  HelpfulnessDenominator     Score        Time  \\\n",
       "0                     1                       1  positive  1303862400   \n",
       "1                     0                       0  negative  1346976000   \n",
       "2                     1                       1  positive  1219017600   \n",
       "3                     3                       3  negative  1307923200   \n",
       "4                     0                       0  positive  1350777600   \n",
       "\n",
       "                 Summary                                               Text  \n",
       "0  Good Quality Dog Food  I have bought several of the Vitality canned d...  \n",
       "1      Not as Advertised  Product arrived labeled as Jumbo Salted Peanut...  \n",
       "2  \"Delight\" says it all  This is a confection that has been around a fe...  \n",
       "3         Cough Medicine  If you are looking for the secret ingredient i...  \n",
       "4            Great taffy  Great taffy at a great price.  There was a wid...  "
      ]
     },
     "execution_count": 175,
     "metadata": {},
     "output_type": "execute_result"
    }
   ],
   "source": [
    "AmazonReview.head()"
   ]
  },
  {
   "cell_type": "markdown",
   "metadata": {},
   "source": [
    "# Observations:\n",
    "\n",
    "The dataset has 525814 reviews and 10 features.  \n",
    "The amazon review dataset provides the following data:  \n",
    "1) Id - review ID  \n",
    "2) ProductID - unique Id for a given product  \n",
    "3) UserID - Unique Id for the user  \n",
    "4) ProfileName - Profile name of the user  \n",
    "5) HelpfulnessNumerator - number of user who found the review heplful  \n",
    "6) HelpfulnessDenominator - total number of users who found the review to be helpful or not.  \n",
    "7) Score - product rating between 1 to 5 ( 3 been neutral, 1 & 2 been negative and 4 & 5 been positive)  \n",
    "8) Time - timestamp of the review  \n",
    "9) Summary - brief sumary of the review  \n",
    "10) Text - text of the review  \n",
    "\n",
    "Objective is to determine whether a given review is positive or negative using K-NN classifier.  \n",
    "To do this, we replace the score column of amazon review as positive or negative by replacing all the values in score column below 3 as negative and above 3 as positive. All the reviews with score 3 are omitted, since they are neutral reviews (Neutral reviews donot help us in determining whether a given review is positive or negative)."
   ]
  },
  {
   "cell_type": "code",
   "execution_count": 176,
   "metadata": {},
   "outputs": [
    {
     "data": {
      "text/plain": [
       "(364133, 10)"
      ]
     },
     "execution_count": 176,
     "metadata": {},
     "output_type": "execute_result"
    }
   ],
   "source": [
    "# Removing all the duplicate data from the review.\n",
    "AmazonReviewDataFiltered = AmazonReview.drop_duplicates(subset = {\"UserId\",\"Time\",\"Text\"}, keep = \"first\", inplace = False)\n",
    "AmazonReviewDataFiltered.shape"
   ]
  },
  {
   "cell_type": "markdown",
   "metadata": {},
   "source": [
    "# There were  161681 duplicate reviews."
   ]
  },
  {
   "cell_type": "code",
   "execution_count": 177,
   "metadata": {},
   "outputs": [
    {
     "data": {
      "text/html": [
       "<div>\n",
       "<style scoped>\n",
       "    .dataframe tbody tr th:only-of-type {\n",
       "        vertical-align: middle;\n",
       "    }\n",
       "\n",
       "    .dataframe tbody tr th {\n",
       "        vertical-align: top;\n",
       "    }\n",
       "\n",
       "    .dataframe thead th {\n",
       "        text-align: right;\n",
       "    }\n",
       "</style>\n",
       "<table border=\"1\" class=\"dataframe\">\n",
       "  <thead>\n",
       "    <tr style=\"text-align: right;\">\n",
       "      <th></th>\n",
       "      <th>Id</th>\n",
       "      <th>ProductId</th>\n",
       "      <th>UserId</th>\n",
       "      <th>ProfileName</th>\n",
       "      <th>HelpfulnessNumerator</th>\n",
       "      <th>HelpfulnessDenominator</th>\n",
       "      <th>Score</th>\n",
       "      <th>Time</th>\n",
       "      <th>Summary</th>\n",
       "      <th>Text</th>\n",
       "    </tr>\n",
       "  </thead>\n",
       "  <tbody>\n",
       "    <tr>\n",
       "      <th>41159</th>\n",
       "      <td>44737</td>\n",
       "      <td>B001EQ55RW</td>\n",
       "      <td>A2V0I904FH7ABY</td>\n",
       "      <td>Ram</td>\n",
       "      <td>3</td>\n",
       "      <td>2</td>\n",
       "      <td>positive</td>\n",
       "      <td>1212883200</td>\n",
       "      <td>Pure cocoa taste with crunchy almonds inside</td>\n",
       "      <td>It was almost a 'love at first bite' - the per...</td>\n",
       "    </tr>\n",
       "    <tr>\n",
       "      <th>59301</th>\n",
       "      <td>64422</td>\n",
       "      <td>B000MIDROQ</td>\n",
       "      <td>A161DK06JJMCYF</td>\n",
       "      <td>J. E. Stephens \"Jeanne\"</td>\n",
       "      <td>3</td>\n",
       "      <td>1</td>\n",
       "      <td>positive</td>\n",
       "      <td>1224892800</td>\n",
       "      <td>Bought This for My Son at College</td>\n",
       "      <td>My son loves spaghetti so I didn't hesitate or...</td>\n",
       "    </tr>\n",
       "  </tbody>\n",
       "</table>\n",
       "</div>"
      ],
      "text/plain": [
       "          Id   ProductId          UserId              ProfileName  \\\n",
       "41159  44737  B001EQ55RW  A2V0I904FH7ABY                      Ram   \n",
       "59301  64422  B000MIDROQ  A161DK06JJMCYF  J. E. Stephens \"Jeanne\"   \n",
       "\n",
       "       HelpfulnessNumerator  HelpfulnessDenominator     Score        Time  \\\n",
       "41159                     3                       2  positive  1212883200   \n",
       "59301                     3                       1  positive  1224892800   \n",
       "\n",
       "                                            Summary  \\\n",
       "41159  Pure cocoa taste with crunchy almonds inside   \n",
       "59301             Bought This for My Son at College   \n",
       "\n",
       "                                                    Text  \n",
       "41159  It was almost a 'love at first bite' - the per...  \n",
       "59301  My son loves spaghetti so I didn't hesitate or...  "
      ]
     },
     "execution_count": 177,
     "metadata": {},
     "output_type": "execute_result"
    }
   ],
   "source": [
    "AmazonReviewDataFiltered[AmazonReviewDataFiltered.HelpfulnessNumerator > AmazonReviewDataFiltered.HelpfulnessDenominator]"
   ]
  },
  {
   "cell_type": "markdown",
   "metadata": {},
   "source": [
    "Since HelpfulnessNumerator indicates that the review was helpful for the user and HelpfulnessDenominator indicates the whether the review has helped or not the user, therefore it is clear that helpfulnessNumerator will always be less than HelpfulnessDenominator. In all the reviews where helpfulnessNumerator is greater than HelpfulnessDenominator indicates its a false entry and therefore should be neglected. There are two such reviews as shown above "
   ]
  },
  {
   "cell_type": "code",
   "execution_count": 178,
   "metadata": {},
   "outputs": [
    {
     "data": {
      "text/plain": [
       "(364131, 10)"
      ]
     },
     "execution_count": 178,
     "metadata": {},
     "output_type": "execute_result"
    }
   ],
   "source": [
    "#Program to remove those reviews where helpfulnessNumerator is greater than helpfulnessDenominator.\n",
    "AmazonReviewDataFiltered = AmazonReviewDataFiltered[AmazonReviewDataFiltered.HelpfulnessNumerator <= AmazonReviewDataFiltered.HelpfulnessDenominator]\n",
    "AmazonReviewDataFiltered.shape"
   ]
  },
  {
   "cell_type": "markdown",
   "metadata": {},
   "source": [
    "## Text Preprocessing"
   ]
  },
  {
   "cell_type": "code",
   "execution_count": 179,
   "metadata": {},
   "outputs": [],
   "source": [
    "def HtmlTagREmover(sentence):\n",
    "    \"\"\"Function to remove all the HTML tags in a given sentence using Regular Expressions\"\"\"\n",
    "    tagPattern = re.compile('<*.?>')\n",
    "    textClean = re.sub(tagPattern,r'', sentence)\n",
    "    return textClean"
   ]
  },
  {
   "cell_type": "code",
   "execution_count": 13,
   "metadata": {},
   "outputs": [],
   "source": [
    "def PuncRemover(sentence):\n",
    "    \"\"\"Function to remove all the Punctuation marks in a given sentence using regular expressions\"\"\"\n",
    "    punPattern = re.sub(r'[? | ! | \\ | \\' | \" | # | . | , | : | ( | ) | / | ]', r'', sentence)\n",
    "    return punPattern"
   ]
  },
  {
   "cell_type": "code",
   "execution_count": 14,
   "metadata": {},
   "outputs": [],
   "source": [
    "stopWordRequired = {'not'}\n",
    "snoBallStemmer = SnowballStemmer ('english')# initialising the snowball stemmer\n",
    "stopWordsEnglish = set(stopwords.words('english', )) - stopWordRequired #set of all the stopwords in english except 'not'."
   ]
  },
  {
   "cell_type": "code",
   "execution_count": 180,
   "metadata": {},
   "outputs": [],
   "source": [
    "# Program to remove stopwords, punctuations, special characters and stemming each words. \n",
    "i = 0\n",
    "positivewords = [] # list to store all the positive words in a review text.\n",
    "negativewords = [] # list to store all the negative words in a review text.\n",
    "filteredSentence = [] # list to store all the filtered review text.\n",
    "for sentn in AmazonReviewDataFiltered['Text'].values:\n",
    "    filteredSent = []\n",
    "    sentn = HtmlTagREmover(sentn)\n",
    "    for word in sentn.split():\n",
    "        for cleanedWord in PuncRemover(word).split():\n",
    "            if (cleanedWord.isalpha() & (len(cleanedWord) > 2)):\n",
    "                if (cleanedWord.lower() not in stopWordsEnglish):\n",
    "                    stemmerWord = snoBallStemmer.stem(cleanedWord.lower())\n",
    "                    filteredSent.append(stemmerWord)\n",
    "                    if (AmazonReviewDataFiltered['Score'].values)[i] == 'positive':\n",
    "                        positivewords.append(stemmerWord)\n",
    "                    else:\n",
    "                        negativewords.append(stemmerWord)\n",
    "                else:\n",
    "                    continue\n",
    "            else:\n",
    "                continue\n",
    "    i += 1\n",
    "    string1 =\" \".join(filteredSent)\n",
    "    filteredSentence.append(string1)\n",
    "            "
   ]
  },
  {
   "cell_type": "code",
   "execution_count": 210,
   "metadata": {},
   "outputs": [],
   "source": [
    "AmazonReviewDataFiltered['Text'] = filteredSentence# Replacing the original text of amazon review datatset with the filtered one.\n",
    "AmazonReviewData['Text'].head()"
   ]
  },
  {
   "cell_type": "code",
   "execution_count": 24,
   "metadata": {},
   "outputs": [
    {
     "data": {
      "text/plain": [
       "positive    307026\n",
       "negative     57105\n",
       "Name: Score, dtype: int64"
      ]
     },
     "execution_count": 24,
     "metadata": {},
     "output_type": "execute_result"
    }
   ],
   "source": [
    "AmazonReviewDataFiltered['Score'].value_counts()"
   ]
  },
  {
   "cell_type": "markdown",
   "metadata": {},
   "source": [
    "# Observation:\n",
    "**There are 307026 positive reviews and 57105 negative reviews out of 364131 total reviews. Hence we have 84.3 % of positive reviews and 15.7% negative reviews  **\n",
    "\n",
    "** It also tells us that the amazon review dataset has an imbalanced dataset.**"
   ]
  },
  {
   "cell_type": "code",
   "execution_count": 25,
   "metadata": {},
   "outputs": [],
   "source": [
    "#Program to form a sentence using all the positive words from the review text.\n",
    "positivesent = ''\n",
    "for word in positivewords:\n",
    "    positivesent += ' ' + word"
   ]
  },
  {
   "cell_type": "code",
   "execution_count": 26,
   "metadata": {},
   "outputs": [],
   "source": [
    "#Program to form a sentence using all the negative words from the review text.\n",
    "negativesent = ''\n",
    "for word in negativewords:\n",
    "    negativesent += ' ' + word"
   ]
  },
  {
   "cell_type": "code",
   "execution_count": 30,
   "metadata": {},
   "outputs": [
    {
     "data": {
      "image/png": "[encoded data removed]",
      "text/plain": [
       "<Figure size 576x576 with 1 Axes>"
      ]
     },
     "metadata": {},
     "output_type": "display_data"
    }
   ],
   "source": [
    "print('Sentence with all positive words in the reviews :\\n')\n",
    "print(positivesent[:25])\n",
    "print('\\n')\n",
    "print('Sentence with all negative words in the reviews :\\n')\n",
    "print(negativesent[:25])\n",
    "\n",
    "#Program to form a word cloud of all the positive in the review text.\n",
    "wordcloud_positive_words = WordCloud(width = 800, height = 800,background_color ='white',min_font_size = 10).generate(positivesent) \n",
    "\n",
    "plt.figure(figsize = (8, 8), facecolor = None)\n",
    "plt.imshow(wordcloud_positive_words)\n",
    "plt.title(\"Word Cloud of All the Positive Words\")\n",
    "plt.axis('off')\n",
    "plt.show()\n"
   ]
  },
  {
   "cell_type": "code",
   "execution_count": 70,
   "metadata": {},
   "outputs": [
    {
     "data": {
      "image/png": "[encoded data removed]",
      "text/plain": [
       "<Figure size 576x576 with 1 Axes>"
      ]
     },
     "metadata": {},
     "output_type": "display_data"
    }
   ],
   "source": [
    "#Program to form a word cloud of all the positive in the review text.\n",
    "wordcloud_negative_words = WordCloud(width = 800, height = 800,background_color ='white',min_font_size = 10).generate(negativesent) \n",
    "\n",
    "plt.figure(figsize = (8, 8), facecolor = None)\n",
    "plt.imshow(wordcloud_negative_words)\n",
    "plt.title(\"Word Cloud of all Negative Words\")\n",
    "plt.axis('off')\n",
    "plt.show()"
   ]
  },
  {
   "cell_type": "code",
   "execution_count": 32,
   "metadata": {},
   "outputs": [],
   "source": [
    "# Sampling 100k data points from AmazonREviewDataFiltered to perform BoW, TF - IDF, word2vec and TF - IDF avgerage w2v, to reduce processing time.\n",
    "AmazonPositiveReviewData = AmazonReviewDataFiltered[AmazonReviewDataFiltered['Score'] == 'positive'].sample(n =84300) # Sampling 84300 positive data points from AmazonReviewDataFiltered, i.e. 84.3%\n",
    "AmazonNegativeReviewData = AmazonReviewDataFiltered[AmazonReviewDataFiltered['Score'] == 'negative'].sample(n = 15700) # Sampling 15700 negative data points from AmazonReviewDataFiltered, i.e. 15.7%\n",
    "3AmazonReviewDataSampled = AmazonPositiveReviewData.append(AmazonNegativeReviewData, ignore_index= True) # Appending the samples of positive and negative data points to form AmazonReviewDataSampled "
   ]
  },
  {
   "cell_type": "code",
   "execution_count": 53,
   "metadata": {},
   "outputs": [],
   "source": [
    "# Extablishing connection and storing the filtered amazon data set in AmazonReviewDataSampled.sqlite database\n",
    "conn = sq.connect('AmazonReviewDataSampled.sqlite')\n",
    "AmazonReviewDataSampled.to_sql('Reviews', conn,if_exists= 'replace' )"
   ]
  },
  {
   "cell_type": "code",
   "execution_count": 119,
   "metadata": {},
   "outputs": [],
   "source": [
    "conn = sq.connect('AmazonReviewDataSampled.sqlite')\n",
    "AmazonReviewDataSampled = pd.read_sql_query(\"\"\"SELECT * FROM Reviews \"\"\", conn)"
   ]
  },
  {
   "cell_type": "code",
   "execution_count": 120,
   "metadata": {},
   "outputs": [
    {
     "data": {
      "text/html": [
       "<div>\n",
       "<style scoped>\n",
       "    .dataframe tbody tr th:only-of-type {\n",
       "        vertical-align: middle;\n",
       "    }\n",
       "\n",
       "    .dataframe tbody tr th {\n",
       "        vertical-align: top;\n",
       "    }\n",
       "\n",
       "    .dataframe thead th {\n",
       "        text-align: right;\n",
       "    }\n",
       "</style>\n",
       "<table border=\"1\" class=\"dataframe\">\n",
       "  <thead>\n",
       "    <tr style=\"text-align: right;\">\n",
       "      <th></th>\n",
       "      <th>index</th>\n",
       "      <th>Id</th>\n",
       "      <th>ProductId</th>\n",
       "      <th>UserId</th>\n",
       "      <th>ProfileName</th>\n",
       "      <th>HelpfulnessNumerator</th>\n",
       "      <th>HelpfulnessDenominator</th>\n",
       "      <th>Score</th>\n",
       "      <th>Time</th>\n",
       "      <th>Summary</th>\n",
       "      <th>Text</th>\n",
       "    </tr>\n",
       "  </thead>\n",
       "  <tbody>\n",
       "    <tr>\n",
       "      <th>0</th>\n",
       "      <td>0</td>\n",
       "      <td>415646</td>\n",
       "      <td>B000EDDS6Q</td>\n",
       "      <td>A7WTII41IWQF</td>\n",
       "      <td>D. Miller</td>\n",
       "      <td>0</td>\n",
       "      <td>0</td>\n",
       "      <td>positive</td>\n",
       "      <td>1234137600</td>\n",
       "      <td>Excellent taste and quality</td>\n",
       "      <td>great cereal tast good provid good nutrit like...</td>\n",
       "    </tr>\n",
       "    <tr>\n",
       "      <th>1</th>\n",
       "      <td>1</td>\n",
       "      <td>473476</td>\n",
       "      <td>B002RBQW20</td>\n",
       "      <td>A3IJY44UJZL9YC</td>\n",
       "      <td>jamesyipoo</td>\n",
       "      <td>4</td>\n",
       "      <td>4</td>\n",
       "      <td>positive</td>\n",
       "      <td>1285718400</td>\n",
       "      <td>Limited Variety</td>\n",
       "      <td>candi good childhood favorit mani get bag piec...</td>\n",
       "    </tr>\n",
       "    <tr>\n",
       "      <th>2</th>\n",
       "      <td>2</td>\n",
       "      <td>323478</td>\n",
       "      <td>B000LNWIVU</td>\n",
       "      <td>A12Y0FZ2EZUU2K</td>\n",
       "      <td>Jill E. Trainor \"Jillylam\"</td>\n",
       "      <td>6</td>\n",
       "      <td>7</td>\n",
       "      <td>positive</td>\n",
       "      <td>1179100800</td>\n",
       "      <td>Victor Fly Bag is Great!</td>\n",
       "      <td>purchas item put near chicken coop first thoug...</td>\n",
       "    </tr>\n",
       "    <tr>\n",
       "      <th>3</th>\n",
       "      <td>3</td>\n",
       "      <td>436119</td>\n",
       "      <td>B001I8DP5U</td>\n",
       "      <td>A2LXIOHTEYTFUW</td>\n",
       "      <td>Hyena \"The world is upheld by the veracity of...</td>\n",
       "      <td>0</td>\n",
       "      <td>0</td>\n",
       "      <td>positive</td>\n",
       "      <td>1310169600</td>\n",
       "      <td>GOOD COFFEE</td>\n",
       "      <td>excel cup favorit regular folger not like cost...</td>\n",
       "    </tr>\n",
       "    <tr>\n",
       "      <th>4</th>\n",
       "      <td>4</td>\n",
       "      <td>259662</td>\n",
       "      <td>B0032AM8HS</td>\n",
       "      <td>A13NB7KO0EQ24J</td>\n",
       "      <td>J. Rosenberg \"Jenrose\"</td>\n",
       "      <td>1</td>\n",
       "      <td>1</td>\n",
       "      <td>positive</td>\n",
       "      <td>1308528000</td>\n",
       "      <td>One of the best tools in my tool chest for dea...</td>\n",
       "      <td>tea tasti import knock back queasi start first...</td>\n",
       "    </tr>\n",
       "  </tbody>\n",
       "</table>\n",
       "</div>"
      ],
      "text/plain": [
       "   index      Id   ProductId          UserId  \\\n",
       "0      0  415646  B000EDDS6Q    A7WTII41IWQF   \n",
       "1      1  473476  B002RBQW20  A3IJY44UJZL9YC   \n",
       "2      2  323478  B000LNWIVU  A12Y0FZ2EZUU2K   \n",
       "3      3  436119  B001I8DP5U  A2LXIOHTEYTFUW   \n",
       "4      4  259662  B0032AM8HS  A13NB7KO0EQ24J   \n",
       "\n",
       "                                        ProfileName  HelpfulnessNumerator  \\\n",
       "0                                         D. Miller                     0   \n",
       "1                                        jamesyipoo                     4   \n",
       "2                        Jill E. Trainor \"Jillylam\"                     6   \n",
       "3  Hyena \"The world is upheld by the veracity of...                     0   \n",
       "4                            J. Rosenberg \"Jenrose\"                     1   \n",
       "\n",
       "   HelpfulnessDenominator     Score        Time  \\\n",
       "0                       0  positive  1234137600   \n",
       "1                       4  positive  1285718400   \n",
       "2                       7  positive  1179100800   \n",
       "3                       0  positive  1310169600   \n",
       "4                       1  positive  1308528000   \n",
       "\n",
       "                                             Summary  \\\n",
       "0                        Excellent taste and quality   \n",
       "1                                    Limited Variety   \n",
       "2                           Victor Fly Bag is Great!   \n",
       "3                                        GOOD COFFEE   \n",
       "4  One of the best tools in my tool chest for dea...   \n",
       "\n",
       "                                                Text  \n",
       "0  great cereal tast good provid good nutrit like...  \n",
       "1  candi good childhood favorit mani get bag piec...  \n",
       "2  purchas item put near chicken coop first thoug...  \n",
       "3  excel cup favorit regular folger not like cost...  \n",
       "4  tea tasti import knock back queasi start first...  "
      ]
     },
     "execution_count": 120,
     "metadata": {},
     "output_type": "execute_result"
    }
   ],
   "source": [
    "#AmazonReviewDataSampled = AmazonReviewDataSampled.drop('level_0', axis = 1)\n",
    "AmazonReviewDataSampled.head()"
   ]
  },
  {
   "cell_type": "markdown",
   "metadata": {},
   "source": [
    "** Replacing Positive and Negative Scores with Binary 1 and 0. **"
   ]
  },
  {
   "cell_type": "code",
   "execution_count": 121,
   "metadata": {},
   "outputs": [],
   "source": [
    "def binaryScore(num):\n",
    "    if num != 'positive':\n",
    "        return 0\n",
    "    else:\n",
    "        return 1"
   ]
  },
  {
   "cell_type": "code",
   "execution_count": 122,
   "metadata": {},
   "outputs": [],
   "source": [
    "binary = []\n",
    "\n",
    "for x in range (len(AmazonReviewDataSampled)):\n",
    "    num = binaryScore(AmazonReviewDataSampled['Score'][x])\n",
    "    binary.append(num)\n",
    "AmazonReviewDataSampled['Score'] = binary\n",
    "    "
   ]
  },
  {
   "cell_type": "code",
   "execution_count": 123,
   "metadata": {},
   "outputs": [
    {
     "data": {
      "text/html": [
       "<div>\n",
       "<style scoped>\n",
       "    .dataframe tbody tr th:only-of-type {\n",
       "        vertical-align: middle;\n",
       "    }\n",
       "\n",
       "    .dataframe tbody tr th {\n",
       "        vertical-align: top;\n",
       "    }\n",
       "\n",
       "    .dataframe thead th {\n",
       "        text-align: right;\n",
       "    }\n",
       "</style>\n",
       "<table border=\"1\" class=\"dataframe\">\n",
       "  <thead>\n",
       "    <tr style=\"text-align: right;\">\n",
       "      <th></th>\n",
       "      <th>index</th>\n",
       "      <th>Id</th>\n",
       "      <th>ProductId</th>\n",
       "      <th>UserId</th>\n",
       "      <th>ProfileName</th>\n",
       "      <th>HelpfulnessNumerator</th>\n",
       "      <th>HelpfulnessDenominator</th>\n",
       "      <th>Score</th>\n",
       "      <th>Time</th>\n",
       "      <th>Summary</th>\n",
       "      <th>Text</th>\n",
       "    </tr>\n",
       "  </thead>\n",
       "  <tbody>\n",
       "    <tr>\n",
       "      <th>0</th>\n",
       "      <td>0</td>\n",
       "      <td>415646</td>\n",
       "      <td>B000EDDS6Q</td>\n",
       "      <td>A7WTII41IWQF</td>\n",
       "      <td>D. Miller</td>\n",
       "      <td>0</td>\n",
       "      <td>0</td>\n",
       "      <td>1</td>\n",
       "      <td>1234137600</td>\n",
       "      <td>Excellent taste and quality</td>\n",
       "      <td>great cereal tast good provid good nutrit like...</td>\n",
       "    </tr>\n",
       "    <tr>\n",
       "      <th>1</th>\n",
       "      <td>1</td>\n",
       "      <td>473476</td>\n",
       "      <td>B002RBQW20</td>\n",
       "      <td>A3IJY44UJZL9YC</td>\n",
       "      <td>jamesyipoo</td>\n",
       "      <td>4</td>\n",
       "      <td>4</td>\n",
       "      <td>1</td>\n",
       "      <td>1285718400</td>\n",
       "      <td>Limited Variety</td>\n",
       "      <td>candi good childhood favorit mani get bag piec...</td>\n",
       "    </tr>\n",
       "    <tr>\n",
       "      <th>2</th>\n",
       "      <td>2</td>\n",
       "      <td>323478</td>\n",
       "      <td>B000LNWIVU</td>\n",
       "      <td>A12Y0FZ2EZUU2K</td>\n",
       "      <td>Jill E. Trainor \"Jillylam\"</td>\n",
       "      <td>6</td>\n",
       "      <td>7</td>\n",
       "      <td>1</td>\n",
       "      <td>1179100800</td>\n",
       "      <td>Victor Fly Bag is Great!</td>\n",
       "      <td>purchas item put near chicken coop first thoug...</td>\n",
       "    </tr>\n",
       "    <tr>\n",
       "      <th>3</th>\n",
       "      <td>3</td>\n",
       "      <td>436119</td>\n",
       "      <td>B001I8DP5U</td>\n",
       "      <td>A2LXIOHTEYTFUW</td>\n",
       "      <td>Hyena \"The world is upheld by the veracity of...</td>\n",
       "      <td>0</td>\n",
       "      <td>0</td>\n",
       "      <td>1</td>\n",
       "      <td>1310169600</td>\n",
       "      <td>GOOD COFFEE</td>\n",
       "      <td>excel cup favorit regular folger not like cost...</td>\n",
       "    </tr>\n",
       "    <tr>\n",
       "      <th>4</th>\n",
       "      <td>4</td>\n",
       "      <td>259662</td>\n",
       "      <td>B0032AM8HS</td>\n",
       "      <td>A13NB7KO0EQ24J</td>\n",
       "      <td>J. Rosenberg \"Jenrose\"</td>\n",
       "      <td>1</td>\n",
       "      <td>1</td>\n",
       "      <td>1</td>\n",
       "      <td>1308528000</td>\n",
       "      <td>One of the best tools in my tool chest for dea...</td>\n",
       "      <td>tea tasti import knock back queasi start first...</td>\n",
       "    </tr>\n",
       "  </tbody>\n",
       "</table>\n",
       "</div>"
      ],
      "text/plain": [
       "   index      Id   ProductId          UserId  \\\n",
       "0      0  415646  B000EDDS6Q    A7WTII41IWQF   \n",
       "1      1  473476  B002RBQW20  A3IJY44UJZL9YC   \n",
       "2      2  323478  B000LNWIVU  A12Y0FZ2EZUU2K   \n",
       "3      3  436119  B001I8DP5U  A2LXIOHTEYTFUW   \n",
       "4      4  259662  B0032AM8HS  A13NB7KO0EQ24J   \n",
       "\n",
       "                                        ProfileName  HelpfulnessNumerator  \\\n",
       "0                                         D. Miller                     0   \n",
       "1                                        jamesyipoo                     4   \n",
       "2                        Jill E. Trainor \"Jillylam\"                     6   \n",
       "3  Hyena \"The world is upheld by the veracity of...                     0   \n",
       "4                            J. Rosenberg \"Jenrose\"                     1   \n",
       "\n",
       "   HelpfulnessDenominator  Score        Time  \\\n",
       "0                       0      1  1234137600   \n",
       "1                       4      1  1285718400   \n",
       "2                       7      1  1179100800   \n",
       "3                       0      1  1310169600   \n",
       "4                       1      1  1308528000   \n",
       "\n",
       "                                             Summary  \\\n",
       "0                        Excellent taste and quality   \n",
       "1                                    Limited Variety   \n",
       "2                           Victor Fly Bag is Great!   \n",
       "3                                        GOOD COFFEE   \n",
       "4  One of the best tools in my tool chest for dea...   \n",
       "\n",
       "                                                Text  \n",
       "0  great cereal tast good provid good nutrit like...  \n",
       "1  candi good childhood favorit mani get bag piec...  \n",
       "2  purchas item put near chicken coop first thoug...  \n",
       "3  excel cup favorit regular folger not like cost...  \n",
       "4  tea tasti import knock back queasi start first...  "
      ]
     },
     "execution_count": 123,
     "metadata": {},
     "output_type": "execute_result"
    }
   ],
   "source": [
    "AmazonReviewDataSampled.head()"
   ]
  },
  {
   "cell_type": "code",
   "execution_count": 124,
   "metadata": {},
   "outputs": [],
   "source": [
    "# Program to split the positive and negative reviews of the amazon dataset based on time.\n",
    "AmazonReviewDataSampledPositive = AmazonReviewDataSampled[AmazonReviewDataSampled['Score'] == 1]\n",
    "\n",
    "AmazonReviewDataSampledNegative = AmazonReviewDataSampled[AmazonReviewDataSampled['Score'] == 0]\n",
    "# Program to sort the positive and negative review dataset with respect to time.\n",
    "AmazonReviewDataSampledPositive.sort_values(by = ['Time'],axis = 0,ascending= True, inplace= True )\n",
    "AmazonReviewDataSampledNegative.sort_values(by = ['Time'],axis = 0,ascending= True, inplace= True)"
   ]
  },
  {
   "cell_type": "code",
   "execution_count": 125,
   "metadata": {},
   "outputs": [
    {
     "data": {
      "text/html": [
       "<div>\n",
       "<style scoped>\n",
       "    .dataframe tbody tr th:only-of-type {\n",
       "        vertical-align: middle;\n",
       "    }\n",
       "\n",
       "    .dataframe tbody tr th {\n",
       "        vertical-align: top;\n",
       "    }\n",
       "\n",
       "    .dataframe thead th {\n",
       "        text-align: right;\n",
       "    }\n",
       "</style>\n",
       "<table border=\"1\" class=\"dataframe\">\n",
       "  <thead>\n",
       "    <tr style=\"text-align: right;\">\n",
       "      <th></th>\n",
       "      <th>index</th>\n",
       "      <th>Id</th>\n",
       "      <th>ProductId</th>\n",
       "      <th>UserId</th>\n",
       "      <th>ProfileName</th>\n",
       "      <th>HelpfulnessNumerator</th>\n",
       "      <th>HelpfulnessDenominator</th>\n",
       "      <th>Score</th>\n",
       "      <th>Time</th>\n",
       "      <th>Summary</th>\n",
       "      <th>Text</th>\n",
       "    </tr>\n",
       "  </thead>\n",
       "  <tbody>\n",
       "    <tr>\n",
       "      <th>44503</th>\n",
       "      <td>44503</td>\n",
       "      <td>150501</td>\n",
       "      <td>0006641040</td>\n",
       "      <td>AJ46FKXOVC7NR</td>\n",
       "      <td>Nicholas A Mesiano</td>\n",
       "      <td>2</td>\n",
       "      <td>2</td>\n",
       "      <td>1</td>\n",
       "      <td>940809600</td>\n",
       "      <td>This whole series is great way to spend time w...</td>\n",
       "      <td>rememb see show air televis year ago child sis...</td>\n",
       "    </tr>\n",
       "    <tr>\n",
       "      <th>76271</th>\n",
       "      <td>76271</td>\n",
       "      <td>230348</td>\n",
       "      <td>B00004RYGX</td>\n",
       "      <td>A1048CYU0OV4O8</td>\n",
       "      <td>Judy L. Eans</td>\n",
       "      <td>2</td>\n",
       "      <td>2</td>\n",
       "      <td>1</td>\n",
       "      <td>947376000</td>\n",
       "      <td>GREAT</td>\n",
       "      <td>one movi movi collect fill comedi action whate...</td>\n",
       "    </tr>\n",
       "    <tr>\n",
       "      <th>14486</th>\n",
       "      <td>14486</td>\n",
       "      <td>230326</td>\n",
       "      <td>B00004RYGX</td>\n",
       "      <td>A2DEE7F9XKP3ZR</td>\n",
       "      <td>jerome</td>\n",
       "      <td>0</td>\n",
       "      <td>3</td>\n",
       "      <td>1</td>\n",
       "      <td>959990400</td>\n",
       "      <td>Research - Beatlejuice video - French version</td>\n",
       "      <td>get crazyim look beatlejuic french version vid...</td>\n",
       "    </tr>\n",
       "    <tr>\n",
       "      <th>49280</th>\n",
       "      <td>49280</td>\n",
       "      <td>1245</td>\n",
       "      <td>B00002Z754</td>\n",
       "      <td>A29Z5PI9BW2PU3</td>\n",
       "      <td>Robbie</td>\n",
       "      <td>7</td>\n",
       "      <td>7</td>\n",
       "      <td>1</td>\n",
       "      <td>961718400</td>\n",
       "      <td>Great Product</td>\n",
       "      <td>realli good idea final product outstand use de...</td>\n",
       "    </tr>\n",
       "  </tbody>\n",
       "</table>\n",
       "</div>"
      ],
      "text/plain": [
       "       index      Id   ProductId          UserId         ProfileName  \\\n",
       "44503  44503  150501  0006641040   AJ46FKXOVC7NR  Nicholas A Mesiano   \n",
       "76271  76271  230348  B00004RYGX  A1048CYU0OV4O8        Judy L. Eans   \n",
       "14486  14486  230326  B00004RYGX  A2DEE7F9XKP3ZR              jerome   \n",
       "49280  49280    1245  B00002Z754  A29Z5PI9BW2PU3              Robbie   \n",
       "\n",
       "       HelpfulnessNumerator  HelpfulnessDenominator  Score       Time  \\\n",
       "44503                     2                       2      1  940809600   \n",
       "76271                     2                       2      1  947376000   \n",
       "14486                     0                       3      1  959990400   \n",
       "49280                     7                       7      1  961718400   \n",
       "\n",
       "                                                 Summary  \\\n",
       "44503  This whole series is great way to spend time w...   \n",
       "76271                                              GREAT   \n",
       "14486      Research - Beatlejuice video - French version   \n",
       "49280                                      Great Product   \n",
       "\n",
       "                                                    Text  \n",
       "44503  rememb see show air televis year ago child sis...  \n",
       "76271  one movi movi collect fill comedi action whate...  \n",
       "14486  get crazyim look beatlejuic french version vid...  \n",
       "49280  realli good idea final product outstand use de...  "
      ]
     },
     "execution_count": 125,
     "metadata": {},
     "output_type": "execute_result"
    }
   ],
   "source": [
    "AmazonReviewDataSampledPositive.head(4)"
   ]
  },
  {
   "cell_type": "code",
   "execution_count": 91,
   "metadata": {},
   "outputs": [
    {
     "data": {
      "text/html": [
       "<div>\n",
       "<style scoped>\n",
       "    .dataframe tbody tr th:only-of-type {\n",
       "        vertical-align: middle;\n",
       "    }\n",
       "\n",
       "    .dataframe tbody tr th {\n",
       "        vertical-align: top;\n",
       "    }\n",
       "\n",
       "    .dataframe thead th {\n",
       "        text-align: right;\n",
       "    }\n",
       "</style>\n",
       "<table border=\"1\" class=\"dataframe\">\n",
       "  <thead>\n",
       "    <tr style=\"text-align: right;\">\n",
       "      <th></th>\n",
       "      <th>index</th>\n",
       "      <th>Id</th>\n",
       "      <th>ProductId</th>\n",
       "      <th>UserId</th>\n",
       "      <th>ProfileName</th>\n",
       "      <th>HelpfulnessNumerator</th>\n",
       "      <th>HelpfulnessDenominator</th>\n",
       "      <th>Score</th>\n",
       "      <th>Time</th>\n",
       "      <th>Summary</th>\n",
       "      <th>Text</th>\n",
       "    </tr>\n",
       "  </thead>\n",
       "  <tbody>\n",
       "    <tr>\n",
       "      <th>89700</th>\n",
       "      <td>89700</td>\n",
       "      <td>451923</td>\n",
       "      <td>B00004CXX9</td>\n",
       "      <td>ANIMV3SPDD8SH</td>\n",
       "      <td>Guy De Federicis</td>\n",
       "      <td>1</td>\n",
       "      <td>12</td>\n",
       "      <td>0</td>\n",
       "      <td>992217600</td>\n",
       "      <td>CASPER IS THE GHOST WITH THE MOST</td>\n",
       "      <td>michael keaton bring distinguish characterist ...</td>\n",
       "    </tr>\n",
       "    <tr>\n",
       "      <th>93897</th>\n",
       "      <td>93897</td>\n",
       "      <td>230327</td>\n",
       "      <td>B00004RYGX</td>\n",
       "      <td>A3M5O6UHXO9IBU</td>\n",
       "      <td>Gary</td>\n",
       "      <td>2</td>\n",
       "      <td>34</td>\n",
       "      <td>0</td>\n",
       "      <td>1052265600</td>\n",
       "      <td>Certificate: Puerile</td>\n",
       "      <td>embarrass comedi come like child attent defici...</td>\n",
       "    </tr>\n",
       "    <tr>\n",
       "      <th>94769</th>\n",
       "      <td>94769</td>\n",
       "      <td>225941</td>\n",
       "      <td>B000PKFZH8</td>\n",
       "      <td>A375QRG43POEW6</td>\n",
       "      <td>dndnd</td>\n",
       "      <td>23</td>\n",
       "      <td>25</td>\n",
       "      <td>0</td>\n",
       "      <td>1069977600</td>\n",
       "      <td>Stay Away...</td>\n",
       "      <td>product ship great packag look good tast horri...</td>\n",
       "    </tr>\n",
       "    <tr>\n",
       "      <th>93593</th>\n",
       "      <td>93593</td>\n",
       "      <td>342462</td>\n",
       "      <td>B000084F3O</td>\n",
       "      <td>A3DWUM6SN3N3NR</td>\n",
       "      <td>Author Brian Wallace (Mind Transmission, Inc.)</td>\n",
       "      <td>4</td>\n",
       "      <td>33</td>\n",
       "      <td>0</td>\n",
       "      <td>1076457600</td>\n",
       "      <td>the most unnatural odor</td>\n",
       "      <td>realli hate fan van patten year feel must save...</td>\n",
       "    </tr>\n",
       "  </tbody>\n",
       "</table>\n",
       "</div>"
      ],
      "text/plain": [
       "       index      Id   ProductId          UserId  \\\n",
       "89700  89700  451923  B00004CXX9   ANIMV3SPDD8SH   \n",
       "93897  93897  230327  B00004RYGX  A3M5O6UHXO9IBU   \n",
       "94769  94769  225941  B000PKFZH8  A375QRG43POEW6   \n",
       "93593  93593  342462  B000084F3O  A3DWUM6SN3N3NR   \n",
       "\n",
       "                                          ProfileName  HelpfulnessNumerator  \\\n",
       "89700                                Guy De Federicis                     1   \n",
       "93897                                            Gary                     2   \n",
       "94769                                           dndnd                    23   \n",
       "93593  Author Brian Wallace (Mind Transmission, Inc.)                     4   \n",
       "\n",
       "       HelpfulnessDenominator  Score        Time  \\\n",
       "89700                      12      0   992217600   \n",
       "93897                      34      0  1052265600   \n",
       "94769                      25      0  1069977600   \n",
       "93593                      33      0  1076457600   \n",
       "\n",
       "                                 Summary  \\\n",
       "89700  CASPER IS THE GHOST WITH THE MOST   \n",
       "93897               Certificate: Puerile   \n",
       "94769                       Stay Away...   \n",
       "93593            the most unnatural odor   \n",
       "\n",
       "                                                    Text  \n",
       "89700  michael keaton bring distinguish characterist ...  \n",
       "93897  embarrass comedi come like child attent defici...  \n",
       "94769  product ship great packag look good tast horri...  \n",
       "93593  realli hate fan van patten year feel must save...  "
      ]
     },
     "execution_count": 91,
     "metadata": {},
     "output_type": "execute_result"
    }
   ],
   "source": [
    "AmazonReviewDataSampledNegative.head(4)"
   ]
  },
  {
   "cell_type": "code",
   "execution_count": 95,
   "metadata": {},
   "outputs": [],
   "source": [
    "# Performing Time Based Spliting of the positive and negative reviews to form 70% of train and 30% of test dataset.\n",
    "Positive_tr = AmazonReviewDataSampledPositive[0:59010]\n",
    "\n",
    "Positive_ts = AmazonReviewDataSampledPositive[59010:]\n",
    "\n",
    "Negative_tr = AmazonReviewDataSampledNegative[0:10990]\n",
    "Negative_ts = AmazonReviewDataSampledNegative[10990:]\n",
    "\n",
    "AmazonReviewDataSampledTrain = Positive_tr.append(Negative_tr, ignore_index = True)\n",
    "AmazonReviewDataSampledTest = Positive_ts.append(Negative_ts, ignore_index = True)"
   ]
  },
  {
   "cell_type": "code",
   "execution_count": 96,
   "metadata": {},
   "outputs": [
    {
     "data": {
      "text/html": [
       "<div>\n",
       "<style scoped>\n",
       "    .dataframe tbody tr th:only-of-type {\n",
       "        vertical-align: middle;\n",
       "    }\n",
       "\n",
       "    .dataframe tbody tr th {\n",
       "        vertical-align: top;\n",
       "    }\n",
       "\n",
       "    .dataframe thead th {\n",
       "        text-align: right;\n",
       "    }\n",
       "</style>\n",
       "<table border=\"1\" class=\"dataframe\">\n",
       "  <thead>\n",
       "    <tr style=\"text-align: right;\">\n",
       "      <th></th>\n",
       "      <th>index</th>\n",
       "      <th>Id</th>\n",
       "      <th>ProductId</th>\n",
       "      <th>UserId</th>\n",
       "      <th>ProfileName</th>\n",
       "      <th>HelpfulnessNumerator</th>\n",
       "      <th>HelpfulnessDenominator</th>\n",
       "      <th>Score</th>\n",
       "      <th>Time</th>\n",
       "      <th>Summary</th>\n",
       "      <th>Text</th>\n",
       "    </tr>\n",
       "  </thead>\n",
       "  <tbody>\n",
       "    <tr>\n",
       "      <th>0</th>\n",
       "      <td>44503</td>\n",
       "      <td>150501</td>\n",
       "      <td>0006641040</td>\n",
       "      <td>AJ46FKXOVC7NR</td>\n",
       "      <td>Nicholas A Mesiano</td>\n",
       "      <td>2</td>\n",
       "      <td>2</td>\n",
       "      <td>1</td>\n",
       "      <td>940809600</td>\n",
       "      <td>This whole series is great way to spend time w...</td>\n",
       "      <td>rememb see show air televis year ago child sis...</td>\n",
       "    </tr>\n",
       "    <tr>\n",
       "      <th>1</th>\n",
       "      <td>76271</td>\n",
       "      <td>230348</td>\n",
       "      <td>B00004RYGX</td>\n",
       "      <td>A1048CYU0OV4O8</td>\n",
       "      <td>Judy L. Eans</td>\n",
       "      <td>2</td>\n",
       "      <td>2</td>\n",
       "      <td>1</td>\n",
       "      <td>947376000</td>\n",
       "      <td>GREAT</td>\n",
       "      <td>one movi movi collect fill comedi action whate...</td>\n",
       "    </tr>\n",
       "    <tr>\n",
       "      <th>2</th>\n",
       "      <td>14486</td>\n",
       "      <td>230326</td>\n",
       "      <td>B00004RYGX</td>\n",
       "      <td>A2DEE7F9XKP3ZR</td>\n",
       "      <td>jerome</td>\n",
       "      <td>0</td>\n",
       "      <td>3</td>\n",
       "      <td>1</td>\n",
       "      <td>959990400</td>\n",
       "      <td>Research - Beatlejuice video - French version</td>\n",
       "      <td>get crazyim look beatlejuic french version vid...</td>\n",
       "    </tr>\n",
       "    <tr>\n",
       "      <th>3</th>\n",
       "      <td>49280</td>\n",
       "      <td>1245</td>\n",
       "      <td>B00002Z754</td>\n",
       "      <td>A29Z5PI9BW2PU3</td>\n",
       "      <td>Robbie</td>\n",
       "      <td>7</td>\n",
       "      <td>7</td>\n",
       "      <td>1</td>\n",
       "      <td>961718400</td>\n",
       "      <td>Great Product</td>\n",
       "      <td>realli good idea final product outstand use de...</td>\n",
       "    </tr>\n",
       "    <tr>\n",
       "      <th>4</th>\n",
       "      <td>64330</td>\n",
       "      <td>149768</td>\n",
       "      <td>B00004S1C5</td>\n",
       "      <td>A7P76IGRZZBFJ</td>\n",
       "      <td>E. Thompson \"Soooooper Genius\"</td>\n",
       "      <td>18</td>\n",
       "      <td>18</td>\n",
       "      <td>1</td>\n",
       "      <td>975974400</td>\n",
       "      <td>Who Needs Wilton?</td>\n",
       "      <td>sick scad nasti toothpick counter tint concept...</td>\n",
       "    </tr>\n",
       "  </tbody>\n",
       "</table>\n",
       "</div>"
      ],
      "text/plain": [
       "   index      Id   ProductId          UserId                     ProfileName  \\\n",
       "0  44503  150501  0006641040   AJ46FKXOVC7NR              Nicholas A Mesiano   \n",
       "1  76271  230348  B00004RYGX  A1048CYU0OV4O8                    Judy L. Eans   \n",
       "2  14486  230326  B00004RYGX  A2DEE7F9XKP3ZR                          jerome   \n",
       "3  49280    1245  B00002Z754  A29Z5PI9BW2PU3                          Robbie   \n",
       "4  64330  149768  B00004S1C5   A7P76IGRZZBFJ  E. Thompson \"Soooooper Genius\"   \n",
       "\n",
       "   HelpfulnessNumerator  HelpfulnessDenominator  Score       Time  \\\n",
       "0                     2                       2      1  940809600   \n",
       "1                     2                       2      1  947376000   \n",
       "2                     0                       3      1  959990400   \n",
       "3                     7                       7      1  961718400   \n",
       "4                    18                      18      1  975974400   \n",
       "\n",
       "                                             Summary  \\\n",
       "0  This whole series is great way to spend time w...   \n",
       "1                                              GREAT   \n",
       "2      Research - Beatlejuice video - French version   \n",
       "3                                      Great Product   \n",
       "4                                  Who Needs Wilton?   \n",
       "\n",
       "                                                Text  \n",
       "0  rememb see show air televis year ago child sis...  \n",
       "1  one movi movi collect fill comedi action whate...  \n",
       "2  get crazyim look beatlejuic french version vid...  \n",
       "3  realli good idea final product outstand use de...  \n",
       "4  sick scad nasti toothpick counter tint concept...  "
      ]
     },
     "execution_count": 96,
     "metadata": {},
     "output_type": "execute_result"
    }
   ],
   "source": [
    "AmazonReviewDataSampledTrain.head()"
   ]
  },
  {
   "cell_type": "code",
   "execution_count": 97,
   "metadata": {},
   "outputs": [
    {
     "data": {
      "text/html": [
       "<div>\n",
       "<style scoped>\n",
       "    .dataframe tbody tr th:only-of-type {\n",
       "        vertical-align: middle;\n",
       "    }\n",
       "\n",
       "    .dataframe tbody tr th {\n",
       "        vertical-align: top;\n",
       "    }\n",
       "\n",
       "    .dataframe thead th {\n",
       "        text-align: right;\n",
       "    }\n",
       "</style>\n",
       "<table border=\"1\" class=\"dataframe\">\n",
       "  <thead>\n",
       "    <tr style=\"text-align: right;\">\n",
       "      <th></th>\n",
       "      <th>index</th>\n",
       "      <th>Id</th>\n",
       "      <th>ProductId</th>\n",
       "      <th>UserId</th>\n",
       "      <th>ProfileName</th>\n",
       "      <th>HelpfulnessNumerator</th>\n",
       "      <th>HelpfulnessDenominator</th>\n",
       "      <th>Score</th>\n",
       "      <th>Time</th>\n",
       "      <th>Summary</th>\n",
       "      <th>Text</th>\n",
       "    </tr>\n",
       "  </thead>\n",
       "  <tbody>\n",
       "    <tr>\n",
       "      <th>0</th>\n",
       "      <td>37662</td>\n",
       "      <td>192950</td>\n",
       "      <td>B000OV08FC</td>\n",
       "      <td>A3DMVZ9D6XSS1E</td>\n",
       "      <td>Hannah</td>\n",
       "      <td>0</td>\n",
       "      <td>0</td>\n",
       "      <td>1</td>\n",
       "      <td>1328572800</td>\n",
       "      <td>Good coffee</td>\n",
       "      <td>easi quick make heat water empti sachet lot le...</td>\n",
       "    </tr>\n",
       "    <tr>\n",
       "      <th>1</th>\n",
       "      <td>84246</td>\n",
       "      <td>107310</td>\n",
       "      <td>B005DFL4PM</td>\n",
       "      <td>AOTUPV596EAHL</td>\n",
       "      <td>Callie14</td>\n",
       "      <td>0</td>\n",
       "      <td>0</td>\n",
       "      <td>1</td>\n",
       "      <td>1328572800</td>\n",
       "      <td>OMG... like Reeses</td>\n",
       "      <td>bought most put protein shake without calori l...</td>\n",
       "    </tr>\n",
       "    <tr>\n",
       "      <th>2</th>\n",
       "      <td>23050</td>\n",
       "      <td>420167</td>\n",
       "      <td>B005NVU5BK</td>\n",
       "      <td>A2J19U8H5SSFCJ</td>\n",
       "      <td>Linda Dalton</td>\n",
       "      <td>0</td>\n",
       "      <td>0</td>\n",
       "      <td>1</td>\n",
       "      <td>1328572800</td>\n",
       "      <td>Excellent chocolate</td>\n",
       "      <td>never heard brand amazon offer special promot ...</td>\n",
       "    </tr>\n",
       "    <tr>\n",
       "      <th>3</th>\n",
       "      <td>27788</td>\n",
       "      <td>120546</td>\n",
       "      <td>B005K4Q37A</td>\n",
       "      <td>AYWXEYT90R54K</td>\n",
       "      <td>Jennifer Komarek</td>\n",
       "      <td>0</td>\n",
       "      <td>0</td>\n",
       "      <td>1</td>\n",
       "      <td>1328572800</td>\n",
       "      <td>Love it!</td>\n",
       "      <td>not big coffe drinker drink coffe use lot crea...</td>\n",
       "    </tr>\n",
       "    <tr>\n",
       "      <th>4</th>\n",
       "      <td>38612</td>\n",
       "      <td>56323</td>\n",
       "      <td>B0039ZOZ86</td>\n",
       "      <td>A24EDLRX54TE36</td>\n",
       "      <td>Gretchen Fehling \"tawonda\"</td>\n",
       "      <td>1</td>\n",
       "      <td>1</td>\n",
       "      <td>1</td>\n",
       "      <td>1328572800</td>\n",
       "      <td>great snack for dieters!@</td>\n",
       "      <td>great dieter calori per pack great throw lucnc...</td>\n",
       "    </tr>\n",
       "  </tbody>\n",
       "</table>\n",
       "</div>"
      ],
      "text/plain": [
       "   index      Id   ProductId          UserId                 ProfileName  \\\n",
       "0  37662  192950  B000OV08FC  A3DMVZ9D6XSS1E                      Hannah   \n",
       "1  84246  107310  B005DFL4PM   AOTUPV596EAHL                    Callie14   \n",
       "2  23050  420167  B005NVU5BK  A2J19U8H5SSFCJ                Linda Dalton   \n",
       "3  27788  120546  B005K4Q37A   AYWXEYT90R54K            Jennifer Komarek   \n",
       "4  38612   56323  B0039ZOZ86  A24EDLRX54TE36  Gretchen Fehling \"tawonda\"   \n",
       "\n",
       "   HelpfulnessNumerator  HelpfulnessDenominator  Score        Time  \\\n",
       "0                     0                       0      1  1328572800   \n",
       "1                     0                       0      1  1328572800   \n",
       "2                     0                       0      1  1328572800   \n",
       "3                     0                       0      1  1328572800   \n",
       "4                     1                       1      1  1328572800   \n",
       "\n",
       "                     Summary  \\\n",
       "0                Good coffee   \n",
       "1         OMG... like Reeses   \n",
       "2        Excellent chocolate   \n",
       "3                   Love it!   \n",
       "4  great snack for dieters!@   \n",
       "\n",
       "                                                Text  \n",
       "0  easi quick make heat water empti sachet lot le...  \n",
       "1  bought most put protein shake without calori l...  \n",
       "2  never heard brand amazon offer special promot ...  \n",
       "3  not big coffe drinker drink coffe use lot crea...  \n",
       "4  great dieter calori per pack great throw lucnc...  "
      ]
     },
     "execution_count": 97,
     "metadata": {},
     "output_type": "execute_result"
    }
   ],
   "source": [
    "AmazonReviewDataSampledTest.head()"
   ]
  },
  {
   "cell_type": "code",
   "execution_count": 27,
   "metadata": {},
   "outputs": [
    {
     "data": {
      "text/plain": [
       "positive    59010\n",
       "negative    10990\n",
       "Name: Score, dtype: int64"
      ]
     },
     "execution_count": 27,
     "metadata": {},
     "output_type": "execute_result"
    }
   ],
   "source": [
    "AmazonReviewDataSampledTrain['Score'].value_counts()"
   ]
  },
  {
   "cell_type": "markdown",
   "metadata": {},
   "source": [
    "# Observation: The train dataset has 59k positive reviews and 10k negative reviews. Hence the train dataset is imbalanced. The total reviews in the train dataset is 70k."
   ]
  },
  {
   "cell_type": "code",
   "execution_count": 14,
   "metadata": {},
   "outputs": [
    {
     "data": {
      "text/plain": [
       "positive    25290\n",
       "negative     4710\n",
       "Name: Score, dtype: int64"
      ]
     },
     "execution_count": 14,
     "metadata": {},
     "output_type": "execute_result"
    }
   ],
   "source": [
    "AmazonReviewDataSampledTest['Score'].value_counts()"
   ]
  },
  {
   "cell_type": "markdown",
   "metadata": {},
   "source": [
    "# Observation: The test dataset has 25k positive reviews and 4.7k negative reviews. Total reviews in test dataset is 30k"
   ]
  },
  {
   "cell_type": "markdown",
   "metadata": {},
   "source": [
    "# Vectorizing the Text column of the Dataset"
   ]
  },
  {
   "cell_type": "markdown",
   "metadata": {},
   "source": [
    "# 1) Bag of Words"
   ]
  },
  {
   "cell_type": "code",
   "execution_count": 24,
   "metadata": {},
   "outputs": [
    {
     "data": {
      "text/plain": [
       "<70000x42841 sparse matrix of type '<class 'numpy.int64'>'\n",
       "\twith 2195461 stored elements in Compressed Sparse Row format>"
      ]
     },
     "execution_count": 24,
     "metadata": {},
     "output_type": "execute_result"
    }
   ],
   "source": [
    "# Initialising and obtaining the bag of words of the Train Dataset.\n",
    "bagOfWordsVec = CountVectorizer()\n",
    "bowTrain = bagOfWordsVec.fit_transform(AmazonReviewDataSampledTrain['Text'])\n",
    "bowTrain"
   ]
  },
  {
   "cell_type": "markdown",
   "metadata": {},
   "source": [
    "# Observation : BOW for training dataset is a sparse matrix with 42.8k dimensions."
   ]
  },
  {
   "cell_type": "code",
   "execution_count": 25,
   "metadata": {},
   "outputs": [
    {
     "data": {
      "text/plain": [
       "<30000x42841 sparse matrix of type '<class 'numpy.int64'>'\n",
       "\twith 935696 stored elements in Compressed Sparse Row format>"
      ]
     },
     "execution_count": 25,
     "metadata": {},
     "output_type": "execute_result"
    }
   ],
   "source": [
    "# Initialising and obtaining the bag of words of the Test Dataset\n",
    "bowTest = bagOfWordsVec.transform(AmazonReviewDataSampledTest['Text'])\n",
    "bowTest"
   ]
  },
  {
   "cell_type": "markdown",
   "metadata": {},
   "source": [
    "# Observation : BOW for test dataset is a sparse matrix with 42.8k dimensions."
   ]
  },
  {
   "cell_type": "markdown",
   "metadata": {},
   "source": [
    "#  2) TF - IDF"
   ]
  },
  {
   "cell_type": "code",
   "execution_count": 105,
   "metadata": {},
   "outputs": [],
   "source": [
    "#Inilialzing and obtaining the TF-IDF of the Train Dataset.\n",
    "tfidfVec = TfidfVectorizer(ngram_range=(1,2))\n",
    "tfidfVecTrain = tfidfVec.fit_transform(AmazonReviewDataSampledTrain['Text'])"
   ]
  },
  {
   "cell_type": "code",
   "execution_count": 106,
   "metadata": {},
   "outputs": [
    {
     "data": {
      "text/plain": [
       "<70000x994451 sparse matrix of type '<class 'numpy.float64'>'\n",
       "\twith 4738319 stored elements in Compressed Sparse Row format>"
      ]
     },
     "execution_count": 106,
     "metadata": {},
     "output_type": "execute_result"
    }
   ],
   "source": [
    "features = tfidfVec.get_feature_names()# to get the features of tfidf vector.\n",
    "tfidfVecTrain"
   ]
  },
  {
   "cell_type": "markdown",
   "metadata": {},
   "source": [
    "# Observation : TFIDF for test dataset is a sparse matrix with 99.4k dimensions."
   ]
  },
  {
   "cell_type": "code",
   "execution_count": 107,
   "metadata": {},
   "outputs": [
    {
     "data": {
      "text/plain": [
       "<30000x994451 sparse matrix of type '<class 'numpy.float64'>'\n",
       "\twith 1732295 stored elements in Compressed Sparse Row format>"
      ]
     },
     "execution_count": 107,
     "metadata": {},
     "output_type": "execute_result"
    }
   ],
   "source": [
    "#obtaining the TF-IDF of the Test Dataset.\n",
    "tfidfVecTest = tfidfVec.transform(AmazonReviewDataSampledTest['Text'])\n",
    "tfidfVecTest"
   ]
  },
  {
   "cell_type": "markdown",
   "metadata": {},
   "source": [
    "# Observation : TFIDF for test dataset is a sparse matrix with 99.4k dimensions."
   ]
  },
  {
   "cell_type": "markdown",
   "metadata": {},
   "source": [
    "# Naive Bayes Classifier for the Amazon Food Review Dataset."
   ]
  },
  {
   "cell_type": "markdown",
   "metadata": {},
   "source": [
    "** We observe that the Amazon food review datatset is an imbalance dataset, with positive reviews making around 85% of the total reviews.**  \n",
    "\n",
    "** We have the train dataset which has 59010 positive and 10990 negative reviews, while the test dataset has 25290 positive reviews and 4710 negative review. ** \n",
    "\n",
    "** We will model the Naive Bayes classifier with 10 fold cross validation to find the optimal value of alpha which is the hyperparameter of the naive bayes classifier .  **  \n",
    "\n",
    "** Since the dataset is imbalanced, AUC is used to evaluate the performance of the model. A perfect classifier would have a AUC more than 0.5 with 1 been the best and 0 been the worse. **\n",
    "\n",
    "** There are three types of Naive Bayes classifiers : **\n",
    "** 1) Bernoulli Naive Bayes: widely used if the features have gaussian distrubution. **  \n",
    "** 2) Multinomial Naive Bayes: widely used for text classification.**  \n",
    "** 3) Complement Naive Bayes: widely used for text classification and if the dataset is imbalanced. **\n",
    "\n",
    "** Since we are doing text classification, we will study naive bayes classifier using multinomial and complement naive bayes. We will try to see which one performs better for our dataset.**\n",
    "\n"
   ]
  },
  {
   "cell_type": "markdown",
   "metadata": {},
   "source": [
    "# Obejective :  To determine whether a given Review is a positive review or not."
   ]
  },
  {
   "cell_type": "code",
   "execution_count": 182,
   "metadata": {},
   "outputs": [],
   "source": [
    "#Program to determine the optimal value of alpha for Naive Bayes classifier using Multinomial and Complement Naive Bayes\n",
    "def Classifier(clf, X_features, Y_classlabel):\n",
    "    \"\"\"Function to determine the best value of aplha using ComplementNB and MultinomialNB. note: clf should be either Complement_Naive_Bayes for ComplementNB and Multinomial_Naive_Bayes for MultinomialNB\"\"\"\n",
    "    cv_scores = [] # Varianle to store the cross validation scores.\n",
    "    value = [0.0001,0.001,0.01,0.1,0,1,10,50,100] # list containing different values of alpha.\n",
    "    print('Alpha Value \\t AUC')\n",
    "   \n",
    "    if clf =='Complement_Naive_Bayes':\n",
    "        #Program to perform Complement naive bayes\n",
    "        for x in value:\n",
    "            classifier = ComplementNB(alpha = x) # initializing the classifier\n",
    "            scores = cross_val_score(classifier, X_features,Y_classlabel,n_jobs = 4, cv = 10, scoring = 'roc_auc') # obtaining the cross validation scores for 10 fold cross validation\n",
    "            cv_scores.append(scores.mean())\n",
    "            print('%r \\t\\t %.3f '%(x,scores.mean()))\n",
    "    else:\n",
    "        #Program to perform multinomial naive bayes\n",
    "        for x in value:\n",
    "            classifier = MultinomialNB(alpha = x) # initializing the classifier \n",
    "            scores = cross_val_score(classifier, X_features,Y_classlabel,n_jobs = 4, cv = 10, scoring = 'roc_auc')# obtaining the cross validation scores for 10 fold cross validation\n",
    "            cv_scores.append(scores.mean())\n",
    "            print('%r \\t\\t %.3f '%(x,scores.mean()))\n",
    "    # Program to plot the alpha v/s cv_scores\n",
    "    plt.figure(figsize= (10,10))\n",
    "    plt.plot(value, cv_scores)\n",
    "    plt.xlim(-1, 100)\n",
    "\n",
    "\n",
    "    for xy in zip(value, np.round(cv_scores,3)):\n",
    "        plt.annotate('(%s, %s)' % xy, xy=xy, textcoords='data')\n",
    "    plt.title(\"Plot of alpha v/s %r \" %clf)\n",
    "    plt.xlabel('alpha value')\n",
    "    plt.ylabel('AUC')\n",
    "    plt.show()"
   ]
  },
  {
   "cell_type": "code",
   "execution_count": 184,
   "metadata": {},
   "outputs": [],
   "source": [
    "# Program to determine the accuracy of the Naive Bayes classifier using the test dataset\n",
    "\n",
    "def NaiveBayesClassifeir(clf, X_train,Y_Train,X_Test,Y_Test,optimalAlpha):\n",
    "    \"\"\"Function to determine the best value of aplha using ComplementNB and MultinomialNB. note: clf should be either Complement_Naive_Bayes for ComplementNB and Multinomial_Naive_Bayes for MultinomialNB\"\"\"\n",
    "    if clf =='Complement_Naive_Bayes':\n",
    "        #Program to perform Complement naive bayes\n",
    "        clfnb = ComplementNB(alpha = optimalAlpha)#initializing the classifier\n",
    "        clfnb.fit(X_train,Y_Train) # fitting the model\n",
    "        predict = clfnb.predict(X_Test) # predicting the class label of the test dataset\n",
    "        auc = roc_auc_score(Y_Test,predict) # calculating the AUC\n",
    "        confusionMatrix = confusion_matrix(Y_Test,predict) # obtaining the confusion matrix\n",
    "        TPR = (confusionMatrix[1,1] / (confusionMatrix[1,0] + confusionMatrix[1,1])) * 100 # calculating the TPR \n",
    "        TNR = (confusionMatrix[0,0] / (confusionMatrix[0,0] + confusionMatrix[0,1])) * 100 # calculating the TNR\n",
    "        print('Optimal Alpha \\tAUC \\t\\tTPR \\t\\tTNR')\n",
    "        print('%r \\t\\t%.3f \\t\\t%.3f \\t\\t%.3f'%(optimalAlpha,auc,TPR,TNR))\n",
    "        \n",
    "    else:\n",
    "        #Program to perform multinomial naive bayes\n",
    "        #Program to perform Complement naive bayes\n",
    "        clfnb = MultinomialNB(alpha = optimalAlpha)#initializing the classifier\n",
    "        clfnb.fit(X_train,Y_Train) # fitting the model\n",
    "        predict = clfnb.predict(X_Test) # predicting the class label of the test dataset\n",
    "        auc = roc_auc_score(Y_Test,predict) # calculating the AUC\n",
    "        confusionMatrix = confusion_matrix(Y_Test,predict) # obtaining the confusion matrix\n",
    "        TPR = (confusionMatrix[1,1] / (confusionMatrix[1,0] + confusionMatrix[1,1])) * 100 # calculating the TPR \n",
    "        TNR = (confusionMatrix[0,0] / (confusionMatrix[0,0] + confusionMatrix[0,1])) * 100 # calculating the TNR\n",
    "        print('Optimal Alpha \\tAUC \\t\\tTPR \\t\\tTNR')\n",
    "        print('%r \\t\\t%.3f \\t\\t%.3f \\t\\t%.3f'%(optimalAlpha,auc,TPR,TNR))"
   ]
  },
  {
   "cell_type": "markdown",
   "metadata": {},
   "source": [
    "# Program to Train and Test the Naive Bayes Classifier using Bag Of Words Vectorizer"
   ]
  },
  {
   "cell_type": "code",
   "execution_count": 183,
   "metadata": {},
   "outputs": [
    {
     "name": "stdout",
     "output_type": "stream",
     "text": [
      "Alpha Value \t AUC\n",
      "0.0001 \t\t 0.840 \n",
      "0.001 \t\t 0.861 \n",
      "0.01 \t\t 0.884 \n",
      "0.1 \t\t 0.902 \n",
      "0 \t\t 0.773 \n",
      "1 \t\t 0.900 \n",
      "10 \t\t 0.721 \n",
      "50 \t\t 0.578 \n",
      "100 \t\t 0.555 \n"
     ]
    },
    {
     "data": {
      "image/png": "[encoded data removed]",
      "text/plain": [
       "<Figure size 720x720 with 1 Axes>"
      ]
     },
     "metadata": {},
     "output_type": "display_data"
    }
   ],
   "source": [
    "Classifier('Multinomial_Naive_Bayes', bowTrain, AmazonReviewDataSampledTrain['Score'])"
   ]
  },
  {
   "cell_type": "markdown",
   "metadata": {},
   "source": [
    "** Optimal Value of Alpha is 0.1 **"
   ]
  },
  {
   "cell_type": "code",
   "execution_count": 185,
   "metadata": {},
   "outputs": [
    {
     "name": "stdout",
     "output_type": "stream",
     "text": [
      "Optimal Alpha \tAUC \t\tTPR \t\tTNR\n",
      "0.1 \t\t0.821 \t\t93.578 \t\t70.701\n"
     ]
    }
   ],
   "source": [
    "\n",
    "NaiveBayesClassifeir('Multinomial_Naive_Bayes',bowTrain,AmazonReviewDataSampledTrain['Score'],bowTest,AmazonReviewDataSampledTest['Score'], 0.1)"
   ]
  },
  {
   "cell_type": "code",
   "execution_count": 191,
   "metadata": {},
   "outputs": [
    {
     "name": "stdout",
     "output_type": "stream",
     "text": [
      "Alpha Value \t AUC\n",
      "0.0001 \t\t 0.840 \n",
      "0.001 \t\t 0.861 \n",
      "0.01 \t\t 0.884 \n",
      "0.1 \t\t 0.902 \n",
      "0 \t\t 0.773 \n",
      "1 \t\t 0.900 \n",
      "10 \t\t 0.721 \n",
      "50 \t\t 0.579 \n",
      "100 \t\t 0.556 \n"
     ]
    },
    {
     "data": {
      "image/png": "[encoded data removed]",
      "text/plain": [
       "<Figure size 720x720 with 1 Axes>"
      ]
     },
     "metadata": {},
     "output_type": "display_data"
    }
   ],
   "source": [
    "Classifier('Complement_Naive_Bayes', bowTrain, AmazonReviewDataSampledTrain['Score'])"
   ]
  },
  {
   "cell_type": "markdown",
   "metadata": {},
   "source": [
    "# Optimal Value of alpha is 0.1"
   ]
  },
  {
   "cell_type": "code",
   "execution_count": 186,
   "metadata": {},
   "outputs": [
    {
     "name": "stdout",
     "output_type": "stream",
     "text": [
      "Optimal Alpha \tAUC \t\tTPR \t\tTNR\n",
      "0.1 \t\t0.846 \t\t87.849 \t\t81.295\n"
     ]
    }
   ],
   "source": [
    "\n",
    "NaiveBayesClassifeir('Complement_Naive_Bayes',bowTrain,AmazonReviewDataSampledTrain['Score'],bowTest,AmazonReviewDataSampledTest['Score'], 0.1)"
   ]
  },
  {
   "cell_type": "markdown",
   "metadata": {},
   "source": [
    "# Program to Train and Test the Naive Bayes Classifier using TFIDF Vectorizer"
   ]
  },
  {
   "cell_type": "code",
   "execution_count": 187,
   "metadata": {},
   "outputs": [
    {
     "name": "stdout",
     "output_type": "stream",
     "text": [
      "Alpha Value \t AUC\n",
      "0.0001 \t\t 0.873 \n",
      "0.001 \t\t 0.894 \n",
      "0.01 \t\t 0.904 \n",
      "0.1 \t\t 0.909 \n",
      "0 \t\t 0.793 \n",
      "1 \t\t 0.814 \n",
      "10 \t\t 0.717 \n",
      "50 \t\t 0.678 \n",
      "100 \t\t 0.666 \n"
     ]
    },
    {
     "data": {
      "image/png": "[encoded data removed]",
      "text/plain": [
       "<Figure size 720x720 with 1 Axes>"
      ]
     },
     "metadata": {},
     "output_type": "display_data"
    }
   ],
   "source": [
    "Classifier('Multinomial_Naive_Bayes', tfidfVecTrain, AmazonReviewDataSampledTrain['Score'])"
   ]
  },
  {
   "cell_type": "markdown",
   "metadata": {},
   "source": [
    "# Optimal value of Alpha is 0.1"
   ]
  },
  {
   "cell_type": "code",
   "execution_count": 188,
   "metadata": {},
   "outputs": [
    {
     "name": "stdout",
     "output_type": "stream",
     "text": [
      "Optimal Alpha \tAUC \t\tTPR \t\tTNR\n",
      "0.1 \t\t0.565 \t\t99.905 \t\t13.036\n"
     ]
    }
   ],
   "source": [
    "\n",
    "NaiveBayesClassifeir('Multinomial_Naive_Bayes',tfidfVecTrain,AmazonReviewDataSampledTrain['Score'],tfidfVecTest,AmazonReviewDataSampledTest['Score'], 0.1)"
   ]
  },
  {
   "cell_type": "code",
   "execution_count": 189,
   "metadata": {},
   "outputs": [
    {
     "name": "stdout",
     "output_type": "stream",
     "text": [
      "Alpha Value \t AUC\n",
      "0.0001 \t\t 0.873 \n",
      "0.001 \t\t 0.894 \n",
      "0.01 \t\t 0.904 \n",
      "0.1 \t\t 0.909 \n",
      "0 \t\t 0.794 \n",
      "1 \t\t 0.814 \n",
      "10 \t\t 0.717 \n",
      "50 \t\t 0.678 \n",
      "100 \t\t 0.666 \n"
     ]
    },
    {
     "data": {
      "image/png": "[encoded data removed]",
      "text/plain": [
       "<Figure size 720x720 with 1 Axes>"
      ]
     },
     "metadata": {},
     "output_type": "display_data"
    }
   ],
   "source": [
    "Classifier('Complement_Naive_Bayes', tfidfVecTrain, AmazonReviewDataSampledTrain['Score'])"
   ]
  },
  {
   "cell_type": "markdown",
   "metadata": {},
   "source": [
    "# Optimal value of alpha is 0.1"
   ]
  },
  {
   "cell_type": "code",
   "execution_count": 190,
   "metadata": {},
   "outputs": [
    {
     "name": "stdout",
     "output_type": "stream",
     "text": [
      "Optimal Alpha \tAUC \t\tTPR \t\tTNR\n",
      "0.1 \t\t0.702 \t\t99.134 \t\t41.338\n"
     ]
    }
   ],
   "source": [
    "\n",
    "NaiveBayesClassifeir('Complement_Naive_Bayes',tfidfVecTrain,AmazonReviewDataSampledTrain['Score'],tfidfVecTest,AmazonReviewDataSampledTest['Score'], 0.1)"
   ]
  },
  {
   "cell_type": "markdown",
   "metadata": {},
   "source": [
    "# Improving TNR by using the summary column of the dataset to predict whether the review is positive or not alongwith text column of the dataset."
   ]
  },
  {
   "cell_type": "code",
   "execution_count": 128,
   "metadata": {},
   "outputs": [],
   "source": [
    "# Program to remove stopwords, punctuations, special characters and stemming each words. \n",
    "i = 0\n",
    "positivewords = [] # list to store all the positive words in a review text.\n",
    "negativewords = [] # list to store all the negative words in a review text.\n",
    "filteredSentence = [] # list to store all the filtered review text.\n",
    "for sentn in AmazonReviewDataSampled['Summary'].values:\n",
    "    filteredSent = []\n",
    "    sentn = HtmlTagREmover(sentn)\n",
    "    for word in sentn.split():\n",
    "        for cleanedWord in PuncRemover(word).split():\n",
    "            if (cleanedWord.isalpha() & (len(cleanedWord) > 2)):\n",
    "                if (cleanedWord.lower() not in stopWordsEnglish):\n",
    "                    stemmerWord = snoBallStemmer.stem(cleanedWord.lower())\n",
    "                    filteredSent.append(stemmerWord)\n",
    "                    if (AmazonReviewDataSampled['Score'].values)[i] == 'positive':\n",
    "                        positivewords.append(stemmerWord)\n",
    "                    else:\n",
    "                        negativewords.append(stemmerWord)\n",
    "                else:\n",
    "                    continue\n",
    "            else:\n",
    "                continue\n",
    "    i += 1\n",
    "    string1 =\" \".join(filteredSent)\n",
    "    filteredSentence.append(string1)\n",
    "\n",
    "AmazonReviewDataSampled['Summary'] = filteredSentence# Replacing the original text of amazon review datatset with the filtered one.\n",
    "AmazonReviewDataSampled['Summary'].head()"
   ]
  },
  {
   "cell_type": "code",
   "execution_count": 137,
   "metadata": {},
   "outputs": [
    {
     "data": {
      "text/html": [
       "<div>\n",
       "<style scoped>\n",
       "    .dataframe tbody tr th:only-of-type {\n",
       "        vertical-align: middle;\n",
       "    }\n",
       "\n",
       "    .dataframe tbody tr th {\n",
       "        vertical-align: top;\n",
       "    }\n",
       "\n",
       "    .dataframe thead th {\n",
       "        text-align: right;\n",
       "    }\n",
       "</style>\n",
       "<table border=\"1\" class=\"dataframe\">\n",
       "  <thead>\n",
       "    <tr style=\"text-align: right;\">\n",
       "      <th></th>\n",
       "      <th>index</th>\n",
       "      <th>Id</th>\n",
       "      <th>ProductId</th>\n",
       "      <th>UserId</th>\n",
       "      <th>ProfileName</th>\n",
       "      <th>HelpfulnessNumerator</th>\n",
       "      <th>HelpfulnessDenominator</th>\n",
       "      <th>Score</th>\n",
       "      <th>Time</th>\n",
       "      <th>Summary</th>\n",
       "      <th>Text</th>\n",
       "    </tr>\n",
       "  </thead>\n",
       "  <tbody>\n",
       "    <tr>\n",
       "      <th>0</th>\n",
       "      <td>0</td>\n",
       "      <td>415646</td>\n",
       "      <td>B000EDDS6Q</td>\n",
       "      <td>A7WTII41IWQF</td>\n",
       "      <td>D. Miller</td>\n",
       "      <td>0</td>\n",
       "      <td>0</td>\n",
       "      <td>1</td>\n",
       "      <td>1234137600</td>\n",
       "      <td>excel tast qualiti</td>\n",
       "      <td>great cereal tast good provid good nutrit like...</td>\n",
       "    </tr>\n",
       "    <tr>\n",
       "      <th>1</th>\n",
       "      <td>1</td>\n",
       "      <td>473476</td>\n",
       "      <td>B002RBQW20</td>\n",
       "      <td>A3IJY44UJZL9YC</td>\n",
       "      <td>jamesyipoo</td>\n",
       "      <td>4</td>\n",
       "      <td>4</td>\n",
       "      <td>1</td>\n",
       "      <td>1285718400</td>\n",
       "      <td>limit varieti</td>\n",
       "      <td>candi good childhood favorit mani get bag piec...</td>\n",
       "    </tr>\n",
       "    <tr>\n",
       "      <th>2</th>\n",
       "      <td>2</td>\n",
       "      <td>323478</td>\n",
       "      <td>B000LNWIVU</td>\n",
       "      <td>A12Y0FZ2EZUU2K</td>\n",
       "      <td>Jill E. Trainor \"Jillylam\"</td>\n",
       "      <td>6</td>\n",
       "      <td>7</td>\n",
       "      <td>1</td>\n",
       "      <td>1179100800</td>\n",
       "      <td>victor fli bag great</td>\n",
       "      <td>purchas item put near chicken coop first thoug...</td>\n",
       "    </tr>\n",
       "    <tr>\n",
       "      <th>3</th>\n",
       "      <td>3</td>\n",
       "      <td>436119</td>\n",
       "      <td>B001I8DP5U</td>\n",
       "      <td>A2LXIOHTEYTFUW</td>\n",
       "      <td>Hyena \"The world is upheld by the veracity of...</td>\n",
       "      <td>0</td>\n",
       "      <td>0</td>\n",
       "      <td>1</td>\n",
       "      <td>1310169600</td>\n",
       "      <td>good coff</td>\n",
       "      <td>excel cup favorit regular folger not like cost...</td>\n",
       "    </tr>\n",
       "    <tr>\n",
       "      <th>4</th>\n",
       "      <td>4</td>\n",
       "      <td>259662</td>\n",
       "      <td>B0032AM8HS</td>\n",
       "      <td>A13NB7KO0EQ24J</td>\n",
       "      <td>J. Rosenberg \"Jenrose\"</td>\n",
       "      <td>1</td>\n",
       "      <td>1</td>\n",
       "      <td>1</td>\n",
       "      <td>1308528000</td>\n",
       "      <td>one best tool tool chest deal morn sick</td>\n",
       "      <td>tea tasti import knock back queasi start first...</td>\n",
       "    </tr>\n",
       "    <tr>\n",
       "      <th>5</th>\n",
       "      <td>5</td>\n",
       "      <td>523939</td>\n",
       "      <td>B004JGQ15Y</td>\n",
       "      <td>A3HREGZ51J1Q9J</td>\n",
       "      <td>Sharon Michaels \"SharonMichaels\"</td>\n",
       "      <td>0</td>\n",
       "      <td>0</td>\n",
       "      <td>1</td>\n",
       "      <td>1307577600</td>\n",
       "      <td>treat</td>\n",
       "      <td>treat like eat candi peanut butter oreo cooki ...</td>\n",
       "    </tr>\n",
       "    <tr>\n",
       "      <th>6</th>\n",
       "      <td>6</td>\n",
       "      <td>53105</td>\n",
       "      <td>B003ZXHGOW</td>\n",
       "      <td>A3B2O118KZEFA9</td>\n",
       "      <td>Juli Pickvet</td>\n",
       "      <td>1</td>\n",
       "      <td>1</td>\n",
       "      <td>1</td>\n",
       "      <td>1322870400</td>\n",
       "      <td>great awesom snack</td>\n",
       "      <td>snack good take lunch work home look forward o...</td>\n",
       "    </tr>\n",
       "    <tr>\n",
       "      <th>7</th>\n",
       "      <td>7</td>\n",
       "      <td>34489</td>\n",
       "      <td>B008FHUDW0</td>\n",
       "      <td>A3BGYTGMNP05RE</td>\n",
       "      <td>Sarah Lilliendahl</td>\n",
       "      <td>1</td>\n",
       "      <td>1</td>\n",
       "      <td>1</td>\n",
       "      <td>1331510400</td>\n",
       "      <td>delici good price fast ship</td>\n",
       "      <td>ive love caribou coffe caribou blend ever sinc...</td>\n",
       "    </tr>\n",
       "    <tr>\n",
       "      <th>8</th>\n",
       "      <td>8</td>\n",
       "      <td>328697</td>\n",
       "      <td>B000LL0ZIK</td>\n",
       "      <td>A208341LN98FCH</td>\n",
       "      <td>Agnieszka Skrzypkowiak</td>\n",
       "      <td>2</td>\n",
       "      <td>2</td>\n",
       "      <td>1</td>\n",
       "      <td>1226102400</td>\n",
       "      <td>mmmm good till last drop</td>\n",
       "      <td>best ginger tea ive ever full flavor littl spi...</td>\n",
       "    </tr>\n",
       "    <tr>\n",
       "      <th>9</th>\n",
       "      <td>9</td>\n",
       "      <td>24536</td>\n",
       "      <td>B000VK2W6O</td>\n",
       "      <td>A3CJ12GJ9VQG6I</td>\n",
       "      <td>Cates</td>\n",
       "      <td>0</td>\n",
       "      <td>0</td>\n",
       "      <td>1</td>\n",
       "      <td>1349654400</td>\n",
       "      <td>belgian mal absolut love</td>\n",
       "      <td>soft small great train recommend break half pu...</td>\n",
       "    </tr>\n",
       "    <tr>\n",
       "      <th>10</th>\n",
       "      <td>10</td>\n",
       "      <td>240597</td>\n",
       "      <td>B000G7I7DO</td>\n",
       "      <td>A2HB2AX4JA3W7Z</td>\n",
       "      <td>KittyLover</td>\n",
       "      <td>1</td>\n",
       "      <td>1</td>\n",
       "      <td>1</td>\n",
       "      <td>1233619200</td>\n",
       "      <td>nice treat</td>\n",
       "      <td>dog realli seem like never let sit floor alway...</td>\n",
       "    </tr>\n",
       "    <tr>\n",
       "      <th>11</th>\n",
       "      <td>11</td>\n",
       "      <td>95034</td>\n",
       "      <td>B001EQ4KJ6</td>\n",
       "      <td>A3NA8ENG4EUG96</td>\n",
       "      <td>Renee DeShane</td>\n",
       "      <td>0</td>\n",
       "      <td>0</td>\n",
       "      <td>1</td>\n",
       "      <td>1253836800</td>\n",
       "      <td>one best gummi</td>\n",
       "      <td>make albanes gummi extra good soft absolut gen...</td>\n",
       "    </tr>\n",
       "    <tr>\n",
       "      <th>12</th>\n",
       "      <td>12</td>\n",
       "      <td>191969</td>\n",
       "      <td>B000Q5X876</td>\n",
       "      <td>A2Q1DN2CTKBPVW</td>\n",
       "      <td>Charles Latner</td>\n",
       "      <td>0</td>\n",
       "      <td>0</td>\n",
       "      <td>1</td>\n",
       "      <td>1266364800</td>\n",
       "      <td>sour appl</td>\n",
       "      <td>realli good except appl one made one appl one ...</td>\n",
       "    </tr>\n",
       "    <tr>\n",
       "      <th>13</th>\n",
       "      <td>13</td>\n",
       "      <td>10409</td>\n",
       "      <td>B005HI55CS</td>\n",
       "      <td>AE6KNBCR1YCNB</td>\n",
       "      <td>Luke Fowler</td>\n",
       "      <td>0</td>\n",
       "      <td>0</td>\n",
       "      <td>1</td>\n",
       "      <td>1343520000</td>\n",
       "      <td>rich mapl flavor good valu</td>\n",
       "      <td>order grade hidden spring syrup grade favorit ...</td>\n",
       "    </tr>\n",
       "    <tr>\n",
       "      <th>14</th>\n",
       "      <td>14</td>\n",
       "      <td>409890</td>\n",
       "      <td>B000TV8STA</td>\n",
       "      <td>AK2U52JO4QHVL</td>\n",
       "      <td>E. Phillips</td>\n",
       "      <td>0</td>\n",
       "      <td>0</td>\n",
       "      <td>1</td>\n",
       "      <td>1280620800</td>\n",
       "      <td>chipotl season</td>\n",
       "      <td>good chipotl season necess around not alway ea...</td>\n",
       "    </tr>\n",
       "    <tr>\n",
       "      <th>15</th>\n",
       "      <td>15</td>\n",
       "      <td>106449</td>\n",
       "      <td>B0036B8B0Q</td>\n",
       "      <td>A2132MLV9U3K1A</td>\n",
       "      <td>Bruce Willems</td>\n",
       "      <td>0</td>\n",
       "      <td>1</td>\n",
       "      <td>1</td>\n",
       "      <td>1318291200</td>\n",
       "      <td>great snack littl</td>\n",
       "      <td>old love almost alway satisfi car stroller lar...</td>\n",
       "    </tr>\n",
       "    <tr>\n",
       "      <th>16</th>\n",
       "      <td>16</td>\n",
       "      <td>268160</td>\n",
       "      <td>B000AY9V4W</td>\n",
       "      <td>A3SHEW9Z9SR1T7</td>\n",
       "      <td>Spence</td>\n",
       "      <td>3</td>\n",
       "      <td>3</td>\n",
       "      <td>1</td>\n",
       "      <td>1300492800</td>\n",
       "      <td>dont afraid</td>\n",
       "      <td>concern would receiv box broken cracker comple...</td>\n",
       "    </tr>\n",
       "    <tr>\n",
       "      <th>17</th>\n",
       "      <td>17</td>\n",
       "      <td>248599</td>\n",
       "      <td>B0000YHPRW</td>\n",
       "      <td>A37ZRQW4014DJ1</td>\n",
       "      <td>T. Dassing \"Teri Karma\"</td>\n",
       "      <td>6</td>\n",
       "      <td>6</td>\n",
       "      <td>1</td>\n",
       "      <td>1107388800</td>\n",
       "      <td>best chocol surpri</td>\n",
       "      <td>first found chocol store back visit vienna aus...</td>\n",
       "    </tr>\n",
       "    <tr>\n",
       "      <th>18</th>\n",
       "      <td>18</td>\n",
       "      <td>103368</td>\n",
       "      <td>B001CU0N7C</td>\n",
       "      <td>A1BAIGX9YVK12R</td>\n",
       "      <td>Fern Springs \"eaglesight\"</td>\n",
       "      <td>3</td>\n",
       "      <td>4</td>\n",
       "      <td>1</td>\n",
       "      <td>1301875200</td>\n",
       "      <td>dri goof</td>\n",
       "      <td>flavor low fat high protein snack howev dri ma...</td>\n",
       "    </tr>\n",
       "    <tr>\n",
       "      <th>19</th>\n",
       "      <td>19</td>\n",
       "      <td>317279</td>\n",
       "      <td>B001EPQYIW</td>\n",
       "      <td>A13YOQXU36UMWC</td>\n",
       "      <td>HappyGirl</td>\n",
       "      <td>0</td>\n",
       "      <td>0</td>\n",
       "      <td>1</td>\n",
       "      <td>1336435200</td>\n",
       "      <td>satisfi custom</td>\n",
       "      <td>see season various food channel decid order no...</td>\n",
       "    </tr>\n",
       "    <tr>\n",
       "      <th>20</th>\n",
       "      <td>20</td>\n",
       "      <td>91347</td>\n",
       "      <td>B000HHQ460</td>\n",
       "      <td>A1VTSJD8PYEYH6</td>\n",
       "      <td>Allie</td>\n",
       "      <td>1</td>\n",
       "      <td>1</td>\n",
       "      <td>1</td>\n",
       "      <td>1337731200</td>\n",
       "      <td>last month</td>\n",
       "      <td>dog seem love thing last almost month shed car...</td>\n",
       "    </tr>\n",
       "    <tr>\n",
       "      <th>21</th>\n",
       "      <td>21</td>\n",
       "      <td>202499</td>\n",
       "      <td>B000G66GTC</td>\n",
       "      <td>A20KA57H5QP9YI</td>\n",
       "      <td>Seashells4u-com</td>\n",
       "      <td>3</td>\n",
       "      <td>3</td>\n",
       "      <td>1</td>\n",
       "      <td>1233273600</td>\n",
       "      <td>tell peopl great buy leav noth</td>\n",
       "      <td>hesit write review stuff darn good darn hard f...</td>\n",
       "    </tr>\n",
       "    <tr>\n",
       "      <th>22</th>\n",
       "      <td>22</td>\n",
       "      <td>194789</td>\n",
       "      <td>B0046IIPMW</td>\n",
       "      <td>AN1C0UZYI73DE</td>\n",
       "      <td>Victor Anaya-Baez</td>\n",
       "      <td>3</td>\n",
       "      <td>3</td>\n",
       "      <td>1</td>\n",
       "      <td>1336348800</td>\n",
       "      <td>perfect sear sous vide seafood even steak</td>\n",
       "      <td>perfect sear sous vide seafood even steak vegg...</td>\n",
       "    </tr>\n",
       "    <tr>\n",
       "      <th>23</th>\n",
       "      <td>23</td>\n",
       "      <td>71499</td>\n",
       "      <td>B001EQ5PU4</td>\n",
       "      <td>A3D6TFYRMIV3ZL</td>\n",
       "      <td>Themis-Athena</td>\n",
       "      <td>9</td>\n",
       "      <td>16</td>\n",
       "      <td>1</td>\n",
       "      <td>1152230400</td>\n",
       "      <td>quintessenti breakfast tea</td>\n",
       "      <td>call blend english breakfast bit misnom scotsm...</td>\n",
       "    </tr>\n",
       "    <tr>\n",
       "      <th>24</th>\n",
       "      <td>24</td>\n",
       "      <td>162851</td>\n",
       "      <td>B005P6TCGW</td>\n",
       "      <td>ASPRCW4L6XVEQ</td>\n",
       "      <td>C. Bonds \"CB\"</td>\n",
       "      <td>0</td>\n",
       "      <td>0</td>\n",
       "      <td>1</td>\n",
       "      <td>1238371200</td>\n",
       "      <td>great servic great product</td>\n",
       "      <td>great mix put hydrat pack mountain bike never ...</td>\n",
       "    </tr>\n",
       "    <tr>\n",
       "      <th>25</th>\n",
       "      <td>25</td>\n",
       "      <td>545143</td>\n",
       "      <td>B0012AOJ7W</td>\n",
       "      <td>A1OT8GDYEFF6ZY</td>\n",
       "      <td>H. Richards</td>\n",
       "      <td>0</td>\n",
       "      <td>0</td>\n",
       "      <td>1</td>\n",
       "      <td>1258848000</td>\n",
       "      <td>delici</td>\n",
       "      <td>spelt pasta great definit worth tri cook fast ...</td>\n",
       "    </tr>\n",
       "    <tr>\n",
       "      <th>26</th>\n",
       "      <td>26</td>\n",
       "      <td>252331</td>\n",
       "      <td>B000GG5N9G</td>\n",
       "      <td>A11429DIT19025</td>\n",
       "      <td>miss raisin \"agatha\"</td>\n",
       "      <td>1</td>\n",
       "      <td>1</td>\n",
       "      <td>1</td>\n",
       "      <td>1262995200</td>\n",
       "      <td>someth ive use year</td>\n",
       "      <td>search store store ive use coffe year delight ...</td>\n",
       "    </tr>\n",
       "    <tr>\n",
       "      <th>27</th>\n",
       "      <td>27</td>\n",
       "      <td>524368</td>\n",
       "      <td>B001EO6172</td>\n",
       "      <td>A1KQ2FKIOUH5HK</td>\n",
       "      <td>K. Cohen \"Global Mom\"</td>\n",
       "      <td>1</td>\n",
       "      <td>1</td>\n",
       "      <td>1</td>\n",
       "      <td>1272153600</td>\n",
       "      <td>great lunch box item</td>\n",
       "      <td>bought preschool kindergartn love lunch box th...</td>\n",
       "    </tr>\n",
       "    <tr>\n",
       "      <th>28</th>\n",
       "      <td>28</td>\n",
       "      <td>35404</td>\n",
       "      <td>B000GW46D4</td>\n",
       "      <td>A1WNGKUT3O644D</td>\n",
       "      <td>Bonnie S. Seybert \"Bonnie\"</td>\n",
       "      <td>0</td>\n",
       "      <td>0</td>\n",
       "      <td>1</td>\n",
       "      <td>1206057600</td>\n",
       "      <td>burst flavor</td>\n",
       "      <td>love jack link beef steak top order box defin ...</td>\n",
       "    </tr>\n",
       "    <tr>\n",
       "      <th>29</th>\n",
       "      <td>29</td>\n",
       "      <td>84432</td>\n",
       "      <td>B000ETAJZ8</td>\n",
       "      <td>A877WMJ8EME9X</td>\n",
       "      <td>James R. Zook</td>\n",
       "      <td>0</td>\n",
       "      <td>0</td>\n",
       "      <td>1</td>\n",
       "      <td>1257206400</td>\n",
       "      <td>six gluten free peopl hous love</td>\n",
       "      <td>tasti perfect amount sweet nice brown around e...</td>\n",
       "    </tr>\n",
       "    <tr>\n",
       "      <th>...</th>\n",
       "      <td>...</td>\n",
       "      <td>...</td>\n",
       "      <td>...</td>\n",
       "      <td>...</td>\n",
       "      <td>...</td>\n",
       "      <td>...</td>\n",
       "      <td>...</td>\n",
       "      <td>...</td>\n",
       "      <td>...</td>\n",
       "      <td>...</td>\n",
       "      <td>...</td>\n",
       "    </tr>\n",
       "    <tr>\n",
       "      <th>99970</th>\n",
       "      <td>99970</td>\n",
       "      <td>262018</td>\n",
       "      <td>B001926R3M</td>\n",
       "      <td>A2QGAZWRM336G7</td>\n",
       "      <td>amazon2</td>\n",
       "      <td>3</td>\n",
       "      <td>5</td>\n",
       "      <td>0</td>\n",
       "      <td>1240876800</td>\n",
       "      <td>fungus</td>\n",
       "      <td>although product grew quick within one week ca...</td>\n",
       "    </tr>\n",
       "    <tr>\n",
       "      <th>99971</th>\n",
       "      <td>99971</td>\n",
       "      <td>52289</td>\n",
       "      <td>B000P49A0W</td>\n",
       "      <td>A222G063MSOBPO</td>\n",
       "      <td>selly</td>\n",
       "      <td>1</td>\n",
       "      <td>5</td>\n",
       "      <td>0</td>\n",
       "      <td>1299801600</td>\n",
       "      <td>tri chocoperfect</td>\n",
       "      <td>recent bought chocoperfect want tri sugar sub ...</td>\n",
       "    </tr>\n",
       "    <tr>\n",
       "      <th>99972</th>\n",
       "      <td>99972</td>\n",
       "      <td>23056</td>\n",
       "      <td>B004ZIER34</td>\n",
       "      <td>A3V6QSTG2T9MIO</td>\n",
       "      <td>John Smith</td>\n",
       "      <td>0</td>\n",
       "      <td>0</td>\n",
       "      <td>0</td>\n",
       "      <td>1313107200</td>\n",
       "      <td>want love dont like tast</td>\n",
       "      <td>excit find coffe acid reflux thought would gre...</td>\n",
       "    </tr>\n",
       "    <tr>\n",
       "      <th>99973</th>\n",
       "      <td>99973</td>\n",
       "      <td>136453</td>\n",
       "      <td>B006Q820X0</td>\n",
       "      <td>A2SM7DTD8KIV84</td>\n",
       "      <td>Emery Griffiths</td>\n",
       "      <td>0</td>\n",
       "      <td>2</td>\n",
       "      <td>0</td>\n",
       "      <td>1338681600</td>\n",
       "      <td>ewwww worst tast ever</td>\n",
       "      <td>yuck complet crap felt like vomit first sip wo...</td>\n",
       "    </tr>\n",
       "    <tr>\n",
       "      <th>99974</th>\n",
       "      <td>99974</td>\n",
       "      <td>142339</td>\n",
       "      <td>B001ELL6RU</td>\n",
       "      <td>A2H0RBILZ233HU</td>\n",
       "      <td>mother of 3</td>\n",
       "      <td>7</td>\n",
       "      <td>9</td>\n",
       "      <td>0</td>\n",
       "      <td>1252713600</td>\n",
       "      <td>not look</td>\n",
       "      <td>come russia buckweat kasha someth want bought ...</td>\n",
       "    </tr>\n",
       "    <tr>\n",
       "      <th>99975</th>\n",
       "      <td>99975</td>\n",
       "      <td>9634</td>\n",
       "      <td>B000H22996</td>\n",
       "      <td>A1XHZPK4TDIHBG</td>\n",
       "      <td>power_tool_guy \"psicorps-b5\"</td>\n",
       "      <td>0</td>\n",
       "      <td>0</td>\n",
       "      <td>0</td>\n",
       "      <td>1345161600</td>\n",
       "      <td>rip</td>\n",
       "      <td>detail product blister pez pez candi refil dis...</td>\n",
       "    </tr>\n",
       "    <tr>\n",
       "      <th>99976</th>\n",
       "      <td>99976</td>\n",
       "      <td>274782</td>\n",
       "      <td>B000E5C6YE</td>\n",
       "      <td>A3B163CP8BIFEQ</td>\n",
       "      <td>bufflowing</td>\n",
       "      <td>0</td>\n",
       "      <td>1</td>\n",
       "      <td>0</td>\n",
       "      <td>1322179200</td>\n",
       "      <td>not chewi hard old stale</td>\n",
       "      <td>arriv not chewi hard dri tri sever pack everi ...</td>\n",
       "    </tr>\n",
       "    <tr>\n",
       "      <th>99977</th>\n",
       "      <td>99977</td>\n",
       "      <td>106013</td>\n",
       "      <td>B0008IV4W2</td>\n",
       "      <td>A35DLASQ1BPNC4</td>\n",
       "      <td>A. Designs \"Buyer\"</td>\n",
       "      <td>0</td>\n",
       "      <td>0</td>\n",
       "      <td>0</td>\n",
       "      <td>1301961600</td>\n",
       "      <td>terribl</td>\n",
       "      <td>stuff aw go back liquid stevia food stevia liq...</td>\n",
       "    </tr>\n",
       "    <tr>\n",
       "      <th>99978</th>\n",
       "      <td>99978</td>\n",
       "      <td>118889</td>\n",
       "      <td>B001E5E0B0</td>\n",
       "      <td>A2XNJJ9TF70P4J</td>\n",
       "      <td>Angie</td>\n",
       "      <td>0</td>\n",
       "      <td>1</td>\n",
       "      <td>0</td>\n",
       "      <td>1247011200</td>\n",
       "      <td>soggi</td>\n",
       "      <td>get wayyyyyi soggi wayyy quick tast okay didnt...</td>\n",
       "    </tr>\n",
       "    <tr>\n",
       "      <th>99979</th>\n",
       "      <td>99979</td>\n",
       "      <td>240308</td>\n",
       "      <td>B001VJ0B0I</td>\n",
       "      <td>A11OTLEDSW8ZXD</td>\n",
       "      <td>CGScammell</td>\n",
       "      <td>3</td>\n",
       "      <td>5</td>\n",
       "      <td>0</td>\n",
       "      <td>1343347200</td>\n",
       "      <td>great fli attract</td>\n",
       "      <td>pick dog food know predomin corn ground yellow...</td>\n",
       "    </tr>\n",
       "    <tr>\n",
       "      <th>99980</th>\n",
       "      <td>99980</td>\n",
       "      <td>245829</td>\n",
       "      <td>B004OAZ36I</td>\n",
       "      <td>A3GLZE0S0YDOKL</td>\n",
       "      <td>I'veGotNothing.Yet</td>\n",
       "      <td>1</td>\n",
       "      <td>1</td>\n",
       "      <td>0</td>\n",
       "      <td>1336003200</td>\n",
       "      <td>vanilla sampler pack</td>\n",
       "      <td>select not pictur cup receiv vanilla hazelnut ...</td>\n",
       "    </tr>\n",
       "    <tr>\n",
       "      <th>99981</th>\n",
       "      <td>99981</td>\n",
       "      <td>354948</td>\n",
       "      <td>B00106HODE</td>\n",
       "      <td>A3AMIRFW8ML2IB</td>\n",
       "      <td>Mazie Lane</td>\n",
       "      <td>5</td>\n",
       "      <td>5</td>\n",
       "      <td>0</td>\n",
       "      <td>1284076800</td>\n",
       "      <td>fresh best</td>\n",
       "      <td>purchas bean expect product similar fantast he...</td>\n",
       "    </tr>\n",
       "    <tr>\n",
       "      <th>99982</th>\n",
       "      <td>99982</td>\n",
       "      <td>173200</td>\n",
       "      <td>B002W9JIGE</td>\n",
       "      <td>A3SYKD35HCZGVS</td>\n",
       "      <td>Ken H</td>\n",
       "      <td>1</td>\n",
       "      <td>2</td>\n",
       "      <td>0</td>\n",
       "      <td>1307750400</td>\n",
       "      <td>complet con</td>\n",
       "      <td>item clear say pack not one packa complet tota...</td>\n",
       "    </tr>\n",
       "    <tr>\n",
       "      <th>99983</th>\n",
       "      <td>99983</td>\n",
       "      <td>147854</td>\n",
       "      <td>B0017OTI4M</td>\n",
       "      <td>AKVMU70GO442P</td>\n",
       "      <td>Pinky</td>\n",
       "      <td>0</td>\n",
       "      <td>1</td>\n",
       "      <td>0</td>\n",
       "      <td>1265155200</td>\n",
       "      <td>adverti mislead</td>\n",
       "      <td>purchas item look pictur reviewsi search banan...</td>\n",
       "    </tr>\n",
       "    <tr>\n",
       "      <th>99984</th>\n",
       "      <td>99984</td>\n",
       "      <td>48731</td>\n",
       "      <td>B001EQ4ADC</td>\n",
       "      <td>A8265FSQQ1F5D</td>\n",
       "      <td>BUZZKILLER</td>\n",
       "      <td>1</td>\n",
       "      <td>1</td>\n",
       "      <td>0</td>\n",
       "      <td>1288569600</td>\n",
       "      <td>mold</td>\n",
       "      <td>first time order second time around not order ...</td>\n",
       "    </tr>\n",
       "    <tr>\n",
       "      <th>99985</th>\n",
       "      <td>99985</td>\n",
       "      <td>523552</td>\n",
       "      <td>B001HXLSUU</td>\n",
       "      <td>AAEGIBOD9UGOL</td>\n",
       "      <td>Christine Schnarr</td>\n",
       "      <td>0</td>\n",
       "      <td>1</td>\n",
       "      <td>0</td>\n",
       "      <td>1329609600</td>\n",
       "      <td>rubberi sweet floofi</td>\n",
       "      <td>not buy mix would rather without textur terrib...</td>\n",
       "    </tr>\n",
       "    <tr>\n",
       "      <th>99986</th>\n",
       "      <td>99986</td>\n",
       "      <td>360044</td>\n",
       "      <td>B000MXVFLS</td>\n",
       "      <td>AZLO6FGVFFWJH</td>\n",
       "      <td>m27</td>\n",
       "      <td>10</td>\n",
       "      <td>10</td>\n",
       "      <td>0</td>\n",
       "      <td>1221004800</td>\n",
       "      <td>horribl stale</td>\n",
       "      <td>paid pack maggi initi excit first arriv howev ...</td>\n",
       "    </tr>\n",
       "    <tr>\n",
       "      <th>99987</th>\n",
       "      <td>99987</td>\n",
       "      <td>307738</td>\n",
       "      <td>B000PEC41Y</td>\n",
       "      <td>A3B9MUNU1FP3C8</td>\n",
       "      <td>Dennis</td>\n",
       "      <td>0</td>\n",
       "      <td>0</td>\n",
       "      <td>0</td>\n",
       "      <td>1341964800</td>\n",
       "      <td>serious</td>\n",
       "      <td>pretti cost gal bbq sauc made gold would inter...</td>\n",
       "    </tr>\n",
       "    <tr>\n",
       "      <th>99988</th>\n",
       "      <td>99988</td>\n",
       "      <td>437203</td>\n",
       "      <td>B004LS2K9G</td>\n",
       "      <td>A35T6K67VV052C</td>\n",
       "      <td>Trudi Geniale \"trudigen\"</td>\n",
       "      <td>0</td>\n",
       "      <td>0</td>\n",
       "      <td>0</td>\n",
       "      <td>1341014400</td>\n",
       "      <td>big chocol mess</td>\n",
       "      <td>happen love marich cherri order alot receiv mu...</td>\n",
       "    </tr>\n",
       "    <tr>\n",
       "      <th>99989</th>\n",
       "      <td>99989</td>\n",
       "      <td>314925</td>\n",
       "      <td>B000ANQQQO</td>\n",
       "      <td>A1A6DWS47GWJWC</td>\n",
       "      <td>William L. Boyd</td>\n",
       "      <td>2</td>\n",
       "      <td>3</td>\n",
       "      <td>0</td>\n",
       "      <td>1289433600</td>\n",
       "      <td>clover broccoli</td>\n",
       "      <td>even label print contain broccoli clover that ...</td>\n",
       "    </tr>\n",
       "    <tr>\n",
       "      <th>99990</th>\n",
       "      <td>99990</td>\n",
       "      <td>516958</td>\n",
       "      <td>B000G1PAC6</td>\n",
       "      <td>A14YER4JCA8HRX</td>\n",
       "      <td>R. Nelson</td>\n",
       "      <td>6</td>\n",
       "      <td>7</td>\n",
       "      <td>0</td>\n",
       "      <td>1227225600</td>\n",
       "      <td>not</td>\n",
       "      <td>drink oolong tea year not claim health benefit...</td>\n",
       "    </tr>\n",
       "    <tr>\n",
       "      <th>99991</th>\n",
       "      <td>99991</td>\n",
       "      <td>177358</td>\n",
       "      <td>B004U49QU2</td>\n",
       "      <td>A23R3EOZ837242</td>\n",
       "      <td>Colin Brown \"Colin Brown Microsoft MVP\"</td>\n",
       "      <td>0</td>\n",
       "      <td>0</td>\n",
       "      <td>0</td>\n",
       "      <td>1309737600</td>\n",
       "      <td>soft cooki noth special</td>\n",
       "      <td>realli isnt lot say chip ahoy new chewi gooey ...</td>\n",
       "    </tr>\n",
       "    <tr>\n",
       "      <th>99992</th>\n",
       "      <td>99992</td>\n",
       "      <td>476500</td>\n",
       "      <td>B004XGCXD4</td>\n",
       "      <td>A291HTT117RVS9</td>\n",
       "      <td>MadisonVeggie \"Lynette in Wisconsin\"</td>\n",
       "      <td>3</td>\n",
       "      <td>3</td>\n",
       "      <td>0</td>\n",
       "      <td>1324598400</td>\n",
       "      <td>product info would help</td>\n",
       "      <td>exampl annoy amazon doesnt post ingredi food i...</td>\n",
       "    </tr>\n",
       "    <tr>\n",
       "      <th>99993</th>\n",
       "      <td>99993</td>\n",
       "      <td>3451</td>\n",
       "      <td>B005K4Q1VI</td>\n",
       "      <td>AZE0XC66FVSDE</td>\n",
       "      <td>Stephen</td>\n",
       "      <td>0</td>\n",
       "      <td>1</td>\n",
       "      <td>0</td>\n",
       "      <td>1325462400</td>\n",
       "      <td>soso</td>\n",
       "      <td>hot chocol not near rich smooth cafe escap pro...</td>\n",
       "    </tr>\n",
       "    <tr>\n",
       "      <th>99994</th>\n",
       "      <td>99994</td>\n",
       "      <td>145836</td>\n",
       "      <td>B003D4F1QS</td>\n",
       "      <td>A3MGVMOKJ93MH0</td>\n",
       "      <td>smith24</td>\n",
       "      <td>2</td>\n",
       "      <td>2</td>\n",
       "      <td>0</td>\n",
       "      <td>1293580800</td>\n",
       "      <td>not fan english breakfast tea</td>\n",
       "      <td>product seem like excel valu decaf english bre...</td>\n",
       "    </tr>\n",
       "    <tr>\n",
       "      <th>99995</th>\n",
       "      <td>99995</td>\n",
       "      <td>8958</td>\n",
       "      <td>B0007A0AP8</td>\n",
       "      <td>A1KAPGX1EPJ5VN</td>\n",
       "      <td>Stephen</td>\n",
       "      <td>0</td>\n",
       "      <td>0</td>\n",
       "      <td>0</td>\n",
       "      <td>1338422400</td>\n",
       "      <td>pet dont like one</td>\n",
       "      <td>two cat four dog cat seem like treat dog turn ...</td>\n",
       "    </tr>\n",
       "    <tr>\n",
       "      <th>99996</th>\n",
       "      <td>99996</td>\n",
       "      <td>5528</td>\n",
       "      <td>B001HTPA3K</td>\n",
       "      <td>A1FCLC6F7T7X90</td>\n",
       "      <td>Word2TheWize</td>\n",
       "      <td>0</td>\n",
       "      <td>0</td>\n",
       "      <td>0</td>\n",
       "      <td>1313020800</td>\n",
       "      <td>uuuuum</td>\n",
       "      <td>love green tea green tea beverag saw sale happ...</td>\n",
       "    </tr>\n",
       "    <tr>\n",
       "      <th>99997</th>\n",
       "      <td>99997</td>\n",
       "      <td>272438</td>\n",
       "      <td>B004NSKWMQ</td>\n",
       "      <td>A30QAOLNZ4415R</td>\n",
       "      <td>Summer B. Frace</td>\n",
       "      <td>3</td>\n",
       "      <td>5</td>\n",
       "      <td>0</td>\n",
       "      <td>1320969600</td>\n",
       "      <td>gritti textur not satisfi</td>\n",
       "      <td>eat bar compar two dark chocol bar coffe bean ...</td>\n",
       "    </tr>\n",
       "    <tr>\n",
       "      <th>99998</th>\n",
       "      <td>99998</td>\n",
       "      <td>439955</td>\n",
       "      <td>B001ELLB66</td>\n",
       "      <td>A3L84HZ9SGRCRC</td>\n",
       "      <td>dlow56</td>\n",
       "      <td>0</td>\n",
       "      <td>0</td>\n",
       "      <td>0</td>\n",
       "      <td>1318982400</td>\n",
       "      <td>seelect tea kava kava count box</td>\n",
       "      <td>tea unpleas metal tast extrem weak also notic ...</td>\n",
       "    </tr>\n",
       "    <tr>\n",
       "      <th>99999</th>\n",
       "      <td>99999</td>\n",
       "      <td>243810</td>\n",
       "      <td>B001LQNVOE</td>\n",
       "      <td>A2VVBCTZDPC872</td>\n",
       "      <td>John J. Hiemenz</td>\n",
       "      <td>0</td>\n",
       "      <td>2</td>\n",
       "      <td>0</td>\n",
       "      <td>1292976000</td>\n",
       "      <td>consist product</td>\n",
       "      <td>senseo style coffe pod order differ flavor ese...</td>\n",
       "    </tr>\n",
       "  </tbody>\n",
       "</table>\n",
       "<p>100000 rows × 11 columns</p>\n",
       "</div>"
      ],
      "text/plain": [
       "       index      Id   ProductId          UserId  \\\n",
       "0          0  415646  B000EDDS6Q    A7WTII41IWQF   \n",
       "1          1  473476  B002RBQW20  A3IJY44UJZL9YC   \n",
       "2          2  323478  B000LNWIVU  A12Y0FZ2EZUU2K   \n",
       "3          3  436119  B001I8DP5U  A2LXIOHTEYTFUW   \n",
       "4          4  259662  B0032AM8HS  A13NB7KO0EQ24J   \n",
       "5          5  523939  B004JGQ15Y  A3HREGZ51J1Q9J   \n",
       "6          6   53105  B003ZXHGOW  A3B2O118KZEFA9   \n",
       "7          7   34489  B008FHUDW0  A3BGYTGMNP05RE   \n",
       "8          8  328697  B000LL0ZIK  A208341LN98FCH   \n",
       "9          9   24536  B000VK2W6O  A3CJ12GJ9VQG6I   \n",
       "10        10  240597  B000G7I7DO  A2HB2AX4JA3W7Z   \n",
       "11        11   95034  B001EQ4KJ6  A3NA8ENG4EUG96   \n",
       "12        12  191969  B000Q5X876  A2Q1DN2CTKBPVW   \n",
       "13        13   10409  B005HI55CS   AE6KNBCR1YCNB   \n",
       "14        14  409890  B000TV8STA   AK2U52JO4QHVL   \n",
       "15        15  106449  B0036B8B0Q  A2132MLV9U3K1A   \n",
       "16        16  268160  B000AY9V4W  A3SHEW9Z9SR1T7   \n",
       "17        17  248599  B0000YHPRW  A37ZRQW4014DJ1   \n",
       "18        18  103368  B001CU0N7C  A1BAIGX9YVK12R   \n",
       "19        19  317279  B001EPQYIW  A13YOQXU36UMWC   \n",
       "20        20   91347  B000HHQ460  A1VTSJD8PYEYH6   \n",
       "21        21  202499  B000G66GTC  A20KA57H5QP9YI   \n",
       "22        22  194789  B0046IIPMW   AN1C0UZYI73DE   \n",
       "23        23   71499  B001EQ5PU4  A3D6TFYRMIV3ZL   \n",
       "24        24  162851  B005P6TCGW   ASPRCW4L6XVEQ   \n",
       "25        25  545143  B0012AOJ7W  A1OT8GDYEFF6ZY   \n",
       "26        26  252331  B000GG5N9G  A11429DIT19025   \n",
       "27        27  524368  B001EO6172  A1KQ2FKIOUH5HK   \n",
       "28        28   35404  B000GW46D4  A1WNGKUT3O644D   \n",
       "29        29   84432  B000ETAJZ8   A877WMJ8EME9X   \n",
       "...      ...     ...         ...             ...   \n",
       "99970  99970  262018  B001926R3M  A2QGAZWRM336G7   \n",
       "99971  99971   52289  B000P49A0W  A222G063MSOBPO   \n",
       "99972  99972   23056  B004ZIER34  A3V6QSTG2T9MIO   \n",
       "99973  99973  136453  B006Q820X0  A2SM7DTD8KIV84   \n",
       "99974  99974  142339  B001ELL6RU  A2H0RBILZ233HU   \n",
       "99975  99975    9634  B000H22996  A1XHZPK4TDIHBG   \n",
       "99976  99976  274782  B000E5C6YE  A3B163CP8BIFEQ   \n",
       "99977  99977  106013  B0008IV4W2  A35DLASQ1BPNC4   \n",
       "99978  99978  118889  B001E5E0B0  A2XNJJ9TF70P4J   \n",
       "99979  99979  240308  B001VJ0B0I  A11OTLEDSW8ZXD   \n",
       "99980  99980  245829  B004OAZ36I  A3GLZE0S0YDOKL   \n",
       "99981  99981  354948  B00106HODE  A3AMIRFW8ML2IB   \n",
       "99982  99982  173200  B002W9JIGE  A3SYKD35HCZGVS   \n",
       "99983  99983  147854  B0017OTI4M   AKVMU70GO442P   \n",
       "99984  99984   48731  B001EQ4ADC   A8265FSQQ1F5D   \n",
       "99985  99985  523552  B001HXLSUU   AAEGIBOD9UGOL   \n",
       "99986  99986  360044  B000MXVFLS   AZLO6FGVFFWJH   \n",
       "99987  99987  307738  B000PEC41Y  A3B9MUNU1FP3C8   \n",
       "99988  99988  437203  B004LS2K9G  A35T6K67VV052C   \n",
       "99989  99989  314925  B000ANQQQO  A1A6DWS47GWJWC   \n",
       "99990  99990  516958  B000G1PAC6  A14YER4JCA8HRX   \n",
       "99991  99991  177358  B004U49QU2  A23R3EOZ837242   \n",
       "99992  99992  476500  B004XGCXD4  A291HTT117RVS9   \n",
       "99993  99993    3451  B005K4Q1VI   AZE0XC66FVSDE   \n",
       "99994  99994  145836  B003D4F1QS  A3MGVMOKJ93MH0   \n",
       "99995  99995    8958  B0007A0AP8  A1KAPGX1EPJ5VN   \n",
       "99996  99996    5528  B001HTPA3K  A1FCLC6F7T7X90   \n",
       "99997  99997  272438  B004NSKWMQ  A30QAOLNZ4415R   \n",
       "99998  99998  439955  B001ELLB66  A3L84HZ9SGRCRC   \n",
       "99999  99999  243810  B001LQNVOE  A2VVBCTZDPC872   \n",
       "\n",
       "                                            ProfileName  HelpfulnessNumerator  \\\n",
       "0                                             D. Miller                     0   \n",
       "1                                            jamesyipoo                     4   \n",
       "2                            Jill E. Trainor \"Jillylam\"                     6   \n",
       "3      Hyena \"The world is upheld by the veracity of...                     0   \n",
       "4                                J. Rosenberg \"Jenrose\"                     1   \n",
       "5                      Sharon Michaels \"SharonMichaels\"                     0   \n",
       "6                                          Juli Pickvet                     1   \n",
       "7                                     Sarah Lilliendahl                     1   \n",
       "8                                Agnieszka Skrzypkowiak                     2   \n",
       "9                                                 Cates                     0   \n",
       "10                                           KittyLover                     1   \n",
       "11                                        Renee DeShane                     0   \n",
       "12                                       Charles Latner                     0   \n",
       "13                                          Luke Fowler                     0   \n",
       "14                                          E. Phillips                     0   \n",
       "15                                        Bruce Willems                     0   \n",
       "16                                               Spence                     3   \n",
       "17                              T. Dassing \"Teri Karma\"                     6   \n",
       "18                            Fern Springs \"eaglesight\"                     3   \n",
       "19                                            HappyGirl                     0   \n",
       "20                                                Allie                     1   \n",
       "21                                      Seashells4u-com                     3   \n",
       "22                                    Victor Anaya-Baez                     3   \n",
       "23                                        Themis-Athena                     9   \n",
       "24                                        C. Bonds \"CB\"                     0   \n",
       "25                                          H. Richards                     0   \n",
       "26                                 miss raisin \"agatha\"                     1   \n",
       "27                                K. Cohen \"Global Mom\"                     1   \n",
       "28                           Bonnie S. Seybert \"Bonnie\"                     0   \n",
       "29                                        James R. Zook                     0   \n",
       "...                                                 ...                   ...   \n",
       "99970                                           amazon2                     3   \n",
       "99971                                             selly                     1   \n",
       "99972                                        John Smith                     0   \n",
       "99973                                   Emery Griffiths                     0   \n",
       "99974                                       mother of 3                     7   \n",
       "99975                      power_tool_guy \"psicorps-b5\"                     0   \n",
       "99976                                        bufflowing                     0   \n",
       "99977                                A. Designs \"Buyer\"                     0   \n",
       "99978                                             Angie                     0   \n",
       "99979                                        CGScammell                     3   \n",
       "99980                                I'veGotNothing.Yet                     1   \n",
       "99981                                        Mazie Lane                     5   \n",
       "99982                                             Ken H                     1   \n",
       "99983                                             Pinky                     0   \n",
       "99984                                        BUZZKILLER                     1   \n",
       "99985                                 Christine Schnarr                     0   \n",
       "99986                                               m27                    10   \n",
       "99987                                            Dennis                     0   \n",
       "99988                          Trudi Geniale \"trudigen\"                     0   \n",
       "99989                                   William L. Boyd                     2   \n",
       "99990                                         R. Nelson                     6   \n",
       "99991           Colin Brown \"Colin Brown Microsoft MVP\"                     0   \n",
       "99992              MadisonVeggie \"Lynette in Wisconsin\"                     3   \n",
       "99993                                           Stephen                     0   \n",
       "99994                                           smith24                     2   \n",
       "99995                                           Stephen                     0   \n",
       "99996                                      Word2TheWize                     0   \n",
       "99997                                   Summer B. Frace                     3   \n",
       "99998                                            dlow56                     0   \n",
       "99999                                   John J. Hiemenz                     0   \n",
       "\n",
       "       HelpfulnessDenominator  Score        Time  \\\n",
       "0                           0      1  1234137600   \n",
       "1                           4      1  1285718400   \n",
       "2                           7      1  1179100800   \n",
       "3                           0      1  1310169600   \n",
       "4                           1      1  1308528000   \n",
       "5                           0      1  1307577600   \n",
       "6                           1      1  1322870400   \n",
       "7                           1      1  1331510400   \n",
       "8                           2      1  1226102400   \n",
       "9                           0      1  1349654400   \n",
       "10                          1      1  1233619200   \n",
       "11                          0      1  1253836800   \n",
       "12                          0      1  1266364800   \n",
       "13                          0      1  1343520000   \n",
       "14                          0      1  1280620800   \n",
       "15                          1      1  1318291200   \n",
       "16                          3      1  1300492800   \n",
       "17                          6      1  1107388800   \n",
       "18                          4      1  1301875200   \n",
       "19                          0      1  1336435200   \n",
       "20                          1      1  1337731200   \n",
       "21                          3      1  1233273600   \n",
       "22                          3      1  1336348800   \n",
       "23                         16      1  1152230400   \n",
       "24                          0      1  1238371200   \n",
       "25                          0      1  1258848000   \n",
       "26                          1      1  1262995200   \n",
       "27                          1      1  1272153600   \n",
       "28                          0      1  1206057600   \n",
       "29                          0      1  1257206400   \n",
       "...                       ...    ...         ...   \n",
       "99970                       5      0  1240876800   \n",
       "99971                       5      0  1299801600   \n",
       "99972                       0      0  1313107200   \n",
       "99973                       2      0  1338681600   \n",
       "99974                       9      0  1252713600   \n",
       "99975                       0      0  1345161600   \n",
       "99976                       1      0  1322179200   \n",
       "99977                       0      0  1301961600   \n",
       "99978                       1      0  1247011200   \n",
       "99979                       5      0  1343347200   \n",
       "99980                       1      0  1336003200   \n",
       "99981                       5      0  1284076800   \n",
       "99982                       2      0  1307750400   \n",
       "99983                       1      0  1265155200   \n",
       "99984                       1      0  1288569600   \n",
       "99985                       1      0  1329609600   \n",
       "99986                      10      0  1221004800   \n",
       "99987                       0      0  1341964800   \n",
       "99988                       0      0  1341014400   \n",
       "99989                       3      0  1289433600   \n",
       "99990                       7      0  1227225600   \n",
       "99991                       0      0  1309737600   \n",
       "99992                       3      0  1324598400   \n",
       "99993                       1      0  1325462400   \n",
       "99994                       2      0  1293580800   \n",
       "99995                       0      0  1338422400   \n",
       "99996                       0      0  1313020800   \n",
       "99997                       5      0  1320969600   \n",
       "99998                       0      0  1318982400   \n",
       "99999                       2      0  1292976000   \n",
       "\n",
       "                                         Summary  \\\n",
       "0                             excel tast qualiti   \n",
       "1                                  limit varieti   \n",
       "2                           victor fli bag great   \n",
       "3                                      good coff   \n",
       "4        one best tool tool chest deal morn sick   \n",
       "5                                          treat   \n",
       "6                             great awesom snack   \n",
       "7                    delici good price fast ship   \n",
       "8                       mmmm good till last drop   \n",
       "9                       belgian mal absolut love   \n",
       "10                                    nice treat   \n",
       "11                                one best gummi   \n",
       "12                                     sour appl   \n",
       "13                    rich mapl flavor good valu   \n",
       "14                                chipotl season   \n",
       "15                             great snack littl   \n",
       "16                                   dont afraid   \n",
       "17                            best chocol surpri   \n",
       "18                                      dri goof   \n",
       "19                                satisfi custom   \n",
       "20                                    last month   \n",
       "21                tell peopl great buy leav noth   \n",
       "22     perfect sear sous vide seafood even steak   \n",
       "23                    quintessenti breakfast tea   \n",
       "24                    great servic great product   \n",
       "25                                        delici   \n",
       "26                           someth ive use year   \n",
       "27                          great lunch box item   \n",
       "28                                  burst flavor   \n",
       "29               six gluten free peopl hous love   \n",
       "...                                          ...   \n",
       "99970                                     fungus   \n",
       "99971                           tri chocoperfect   \n",
       "99972                   want love dont like tast   \n",
       "99973                      ewwww worst tast ever   \n",
       "99974                                   not look   \n",
       "99975                                        rip   \n",
       "99976                   not chewi hard old stale   \n",
       "99977                                    terribl   \n",
       "99978                                      soggi   \n",
       "99979                          great fli attract   \n",
       "99980                       vanilla sampler pack   \n",
       "99981                                 fresh best   \n",
       "99982                                complet con   \n",
       "99983                            adverti mislead   \n",
       "99984                                       mold   \n",
       "99985                       rubberi sweet floofi   \n",
       "99986                              horribl stale   \n",
       "99987                                    serious   \n",
       "99988                            big chocol mess   \n",
       "99989                            clover broccoli   \n",
       "99990                                        not   \n",
       "99991                    soft cooki noth special   \n",
       "99992                    product info would help   \n",
       "99993                                       soso   \n",
       "99994              not fan english breakfast tea   \n",
       "99995                          pet dont like one   \n",
       "99996                                     uuuuum   \n",
       "99997                  gritti textur not satisfi   \n",
       "99998            seelect tea kava kava count box   \n",
       "99999                            consist product   \n",
       "\n",
       "                                                    Text  \n",
       "0      great cereal tast good provid good nutrit like...  \n",
       "1      candi good childhood favorit mani get bag piec...  \n",
       "2      purchas item put near chicken coop first thoug...  \n",
       "3      excel cup favorit regular folger not like cost...  \n",
       "4      tea tasti import knock back queasi start first...  \n",
       "5      treat like eat candi peanut butter oreo cooki ...  \n",
       "6      snack good take lunch work home look forward o...  \n",
       "7      ive love caribou coffe caribou blend ever sinc...  \n",
       "8      best ginger tea ive ever full flavor littl spi...  \n",
       "9      soft small great train recommend break half pu...  \n",
       "10     dog realli seem like never let sit floor alway...  \n",
       "11     make albanes gummi extra good soft absolut gen...  \n",
       "12     realli good except appl one made one appl one ...  \n",
       "13     order grade hidden spring syrup grade favorit ...  \n",
       "14     good chipotl season necess around not alway ea...  \n",
       "15     old love almost alway satisfi car stroller lar...  \n",
       "16     concern would receiv box broken cracker comple...  \n",
       "17     first found chocol store back visit vienna aus...  \n",
       "18     flavor low fat high protein snack howev dri ma...  \n",
       "19     see season various food channel decid order no...  \n",
       "20     dog seem love thing last almost month shed car...  \n",
       "21     hesit write review stuff darn good darn hard f...  \n",
       "22     perfect sear sous vide seafood even steak vegg...  \n",
       "23     call blend english breakfast bit misnom scotsm...  \n",
       "24     great mix put hydrat pack mountain bike never ...  \n",
       "25     spelt pasta great definit worth tri cook fast ...  \n",
       "26     search store store ive use coffe year delight ...  \n",
       "27     bought preschool kindergartn love lunch box th...  \n",
       "28     love jack link beef steak top order box defin ...  \n",
       "29     tasti perfect amount sweet nice brown around e...  \n",
       "...                                                  ...  \n",
       "99970  although product grew quick within one week ca...  \n",
       "99971  recent bought chocoperfect want tri sugar sub ...  \n",
       "99972  excit find coffe acid reflux thought would gre...  \n",
       "99973  yuck complet crap felt like vomit first sip wo...  \n",
       "99974  come russia buckweat kasha someth want bought ...  \n",
       "99975  detail product blister pez pez candi refil dis...  \n",
       "99976  arriv not chewi hard dri tri sever pack everi ...  \n",
       "99977  stuff aw go back liquid stevia food stevia liq...  \n",
       "99978  get wayyyyyi soggi wayyy quick tast okay didnt...  \n",
       "99979  pick dog food know predomin corn ground yellow...  \n",
       "99980  select not pictur cup receiv vanilla hazelnut ...  \n",
       "99981  purchas bean expect product similar fantast he...  \n",
       "99982  item clear say pack not one packa complet tota...  \n",
       "99983  purchas item look pictur reviewsi search banan...  \n",
       "99984  first time order second time around not order ...  \n",
       "99985  not buy mix would rather without textur terrib...  \n",
       "99986  paid pack maggi initi excit first arriv howev ...  \n",
       "99987  pretti cost gal bbq sauc made gold would inter...  \n",
       "99988  happen love marich cherri order alot receiv mu...  \n",
       "99989  even label print contain broccoli clover that ...  \n",
       "99990  drink oolong tea year not claim health benefit...  \n",
       "99991  realli isnt lot say chip ahoy new chewi gooey ...  \n",
       "99992  exampl annoy amazon doesnt post ingredi food i...  \n",
       "99993  hot chocol not near rich smooth cafe escap pro...  \n",
       "99994  product seem like excel valu decaf english bre...  \n",
       "99995  two cat four dog cat seem like treat dog turn ...  \n",
       "99996  love green tea green tea beverag saw sale happ...  \n",
       "99997  eat bar compar two dark chocol bar coffe bean ...  \n",
       "99998  tea unpleas metal tast extrem weak also notic ...  \n",
       "99999  senseo style coffe pod order differ flavor ese...  \n",
       "\n",
       "[100000 rows x 11 columns]"
      ]
     },
     "execution_count": 137,
     "metadata": {},
     "output_type": "execute_result"
    }
   ],
   "source": [
    "AmazonReviewDataSampled"
   ]
  },
  {
   "cell_type": "code",
   "execution_count": 138,
   "metadata": {},
   "outputs": [],
   "source": [
    "# Performing Time Based Spliting of the positive and negative reviews to form 70% of train and 30% of test dataset based on time based splitting .\n",
    "Positive_tr = AmazonReviewDataSampledPositive[0:59010]\n",
    "\n",
    "Positive_ts = AmazonReviewDataSampledPositive[59010:]\n",
    "\n",
    "Negative_tr = AmazonReviewDataSampledNegative[0:10990]\n",
    "Negative_ts = AmazonReviewDataSampledNegative[10990:]\n",
    "\n",
    "AmazonReviewDataSampledTrain = Positive_tr.append(Negative_tr, ignore_index = True)\n",
    "AmazonReviewDataSampledTest = Positive_ts.append(Negative_ts, ignore_index = True)"
   ]
  },
  {
   "cell_type": "markdown",
   "metadata": {},
   "source": [
    "# BOW vectorizer"
   ]
  },
  {
   "cell_type": "markdown",
   "metadata": {},
   "source": [
    "** Obtaining the bow vectors using the text and summary columns of the dataset.**"
   ]
  },
  {
   "cell_type": "code",
   "execution_count": 139,
   "metadata": {},
   "outputs": [],
   "source": [
    "bowTrain_TS = bagOfWordsVec.fit_transform(AmazonReviewDataSampledTrain['Text'] + AmazonReviewDataSampledTrain['Summary'])"
   ]
  },
  {
   "cell_type": "code",
   "execution_count": 140,
   "metadata": {},
   "outputs": [
    {
     "data": {
      "text/plain": [
       "<70000x94040 sparse matrix of type '<class 'numpy.int64'>'\n",
       "\twith 2367041 stored elements in Compressed Sparse Row format>"
      ]
     },
     "execution_count": 140,
     "metadata": {},
     "output_type": "execute_result"
    }
   ],
   "source": [
    "bowTrain_TS"
   ]
  },
  {
   "cell_type": "code",
   "execution_count": 141,
   "metadata": {},
   "outputs": [],
   "source": [
    "bowTest_TS = bagOfWordsVec.transform(AmazonReviewDataSampledTest['Text'] + AmazonReviewDataSampledTest['Summary'])"
   ]
  },
  {
   "cell_type": "code",
   "execution_count": 142,
   "metadata": {},
   "outputs": [
    {
     "data": {
      "text/plain": [
       "<30000x94040 sparse matrix of type '<class 'numpy.int64'>'\n",
       "\twith 990089 stored elements in Compressed Sparse Row format>"
      ]
     },
     "execution_count": 142,
     "metadata": {},
     "output_type": "execute_result"
    }
   ],
   "source": [
    "bowTest_TS "
   ]
  },
  {
   "cell_type": "markdown",
   "metadata": {},
   "source": [
    "# TFIDF Vectorizer"
   ]
  },
  {
   "cell_type": "markdown",
   "metadata": {},
   "source": [
    "** Obtaining the TFIDF vectors using the text and summary columns of the dataset. **"
   ]
  },
  {
   "cell_type": "code",
   "execution_count": 143,
   "metadata": {},
   "outputs": [],
   "source": [
    "tfidfVecTrain_TS = tfidfVec.fit_transform(AmazonReviewDataSampledTrain['Text'] + AmazonReviewDataSampledTrain['Summary'])"
   ]
  },
  {
   "cell_type": "code",
   "execution_count": 144,
   "metadata": {},
   "outputs": [
    {
     "data": {
      "text/plain": [
       "<70000x1208766 sparse matrix of type '<class 'numpy.float64'>'\n",
       "\twith 5113434 stored elements in Compressed Sparse Row format>"
      ]
     },
     "execution_count": 144,
     "metadata": {},
     "output_type": "execute_result"
    }
   ],
   "source": [
    "tfidfVecTrain_TS"
   ]
  },
  {
   "cell_type": "code",
   "execution_count": 145,
   "metadata": {},
   "outputs": [],
   "source": [
    "tfidfVecTest_TS = tfidfVec.transform(AmazonReviewDataSampledTest['Text'] + AmazonReviewDataSampledTest['Summary'])"
   ]
  },
  {
   "cell_type": "code",
   "execution_count": 146,
   "metadata": {},
   "outputs": [
    {
     "data": {
      "text/plain": [
       "<30000x1208766 sparse matrix of type '<class 'numpy.float64'>'\n",
       "\twith 1808101 stored elements in Compressed Sparse Row format>"
      ]
     },
     "execution_count": 146,
     "metadata": {},
     "output_type": "execute_result"
    }
   ],
   "source": [
    "tfidfVecTest_TS"
   ]
  },
  {
   "cell_type": "markdown",
   "metadata": {},
   "source": [
    "# Program to Train and Test the Naive Bayes Classifier using BOW Vectorizer"
   ]
  },
  {
   "cell_type": "code",
   "execution_count": 192,
   "metadata": {},
   "outputs": [
    {
     "name": "stdout",
     "output_type": "stream",
     "text": [
      "Alpha Value \t AUC\n",
      "0.0001 \t\t 0.876 \n",
      "0.001 \t\t 0.895 \n",
      "0.01 \t\t 0.914 \n",
      "0.1 \t\t 0.927 \n",
      "0 \t\t 0.811 \n",
      "1 \t\t 0.902 \n",
      "10 \t\t 0.649 \n",
      "50 \t\t 0.556 \n",
      "100 \t\t 0.543 \n"
     ]
    },
    {
     "data": {
      "image/png": "[encoded data removed]",
      "text/plain": [
       "<Figure size 720x720 with 1 Axes>"
      ]
     },
     "metadata": {},
     "output_type": "display_data"
    }
   ],
   "source": [
    "Classifier('Multinomial_Naive_Bayes', bowTrain_TS, AmazonReviewDataSampledTrain['Score'])"
   ]
  },
  {
   "cell_type": "markdown",
   "metadata": {},
   "source": [
    "# Optimal value of alpha is 0.1"
   ]
  },
  {
   "cell_type": "code",
   "execution_count": 193,
   "metadata": {},
   "outputs": [
    {
     "name": "stdout",
     "output_type": "stream",
     "text": [
      "Optimal Alpha \tAUC \t\tTPR \t\tTNR\n",
      "0.1 \t\t0.842 \t\t94.318 \t\t74.161\n"
     ]
    }
   ],
   "source": [
    "\n",
    "NaiveBayesClassifeir('Multinomial_Naive_Bayes',bowTrain_TS,AmazonReviewDataSampledTrain['Score'],bowTest_TS,AmazonReviewDataSampledTest['Score'], 0.1)"
   ]
  },
  {
   "cell_type": "code",
   "execution_count": 194,
   "metadata": {},
   "outputs": [
    {
     "name": "stdout",
     "output_type": "stream",
     "text": [
      "Alpha Value \t AUC\n",
      "0.0001 \t\t 0.876 \n",
      "0.001 \t\t 0.895 \n",
      "0.01 \t\t 0.914 \n",
      "0.1 \t\t 0.927 \n",
      "0 \t\t 0.810 \n",
      "1 \t\t 0.902 \n",
      "10 \t\t 0.650 \n",
      "50 \t\t 0.558 \n",
      "100 \t\t 0.544 \n"
     ]
    },
    {
     "data": {
      "image/png": "[encoded data removed]",
      "text/plain": [
       "<Figure size 720x720 with 1 Axes>"
      ]
     },
     "metadata": {},
     "output_type": "display_data"
    }
   ],
   "source": [
    "Classifier('Complement_Naive_Bayes', bowTrain_TS, AmazonReviewDataSampledTrain['Score'])"
   ]
  },
  {
   "cell_type": "markdown",
   "metadata": {},
   "source": [
    "# Optimal value of alpha is 0.1"
   ]
  },
  {
   "cell_type": "code",
   "execution_count": 196,
   "metadata": {},
   "outputs": [
    {
     "name": "stdout",
     "output_type": "stream",
     "text": [
      "Optimal Alpha \tAUC \t\tTPR \t\tTNR\n",
      "0.1 \t\t0.873 \t\t90.708 \t\t83.822\n"
     ]
    }
   ],
   "source": [
    "\n",
    "NaiveBayesClassifeir('Complement_Naive_Bayes',bowTrain_TS,AmazonReviewDataSampledTrain['Score'],bowTest_TS,AmazonReviewDataSampledTest['Score'], 0.1)"
   ]
  },
  {
   "cell_type": "markdown",
   "metadata": {},
   "source": [
    "# Program to Train and Test the Naive Bayes Classifier using TFIDF Vectorizer"
   ]
  },
  {
   "cell_type": "code",
   "execution_count": 197,
   "metadata": {},
   "outputs": [
    {
     "name": "stdout",
     "output_type": "stream",
     "text": [
      "Alpha Value \t AUC\n",
      "0.0001 \t\t 0.899 \n",
      "0.001 \t\t 0.917 \n",
      "0.01 \t\t 0.925 \n",
      "0.1 \t\t 0.923 \n",
      "0 \t\t 0.831 \n",
      "1 \t\t 0.802 \n",
      "10 \t\t 0.699 \n",
      "50 \t\t 0.660 \n",
      "100 \t\t 0.649 \n"
     ]
    },
    {
     "data": {
      "image/png": "[encoded data removed]",
      "text/plain": [
       "<Figure size 720x720 with 1 Axes>"
      ]
     },
     "metadata": {},
     "output_type": "display_data"
    }
   ],
   "source": [
    "Classifier('Multinomial_Naive_Bayes',tfidfVecTrain_TS, AmazonReviewDataSampledTrain['Score'])"
   ]
  },
  {
   "cell_type": "markdown",
   "metadata": {},
   "source": [
    "# Optimal value of alpha is 0.01"
   ]
  },
  {
   "cell_type": "code",
   "execution_count": 198,
   "metadata": {},
   "outputs": [
    {
     "name": "stdout",
     "output_type": "stream",
     "text": [
      "Optimal Alpha \tAUC \t\tTPR \t\tTNR\n",
      "0.01 \t\t0.712 \t\t99.205 \t\t43.121\n"
     ]
    }
   ],
   "source": [
    "\n",
    "NaiveBayesClassifeir('Multinomial_Naive_Bayes',tfidfVecTrain_TS,AmazonReviewDataSampledTrain['Score'],tfidfVecTest_TS,AmazonReviewDataSampledTest['Score'], 0.01)"
   ]
  },
  {
   "cell_type": "code",
   "execution_count": 200,
   "metadata": {},
   "outputs": [
    {
     "name": "stdout",
     "output_type": "stream",
     "text": [
      "Alpha Value \t AUC\n",
      "0.0001 \t\t 0.899 \n",
      "0.001 \t\t 0.917 \n",
      "0.01 \t\t 0.925 \n",
      "0.1 \t\t 0.923 \n",
      "0 \t\t 0.831 \n",
      "1 \t\t 0.802 \n",
      "10 \t\t 0.699 \n",
      "50 \t\t 0.660 \n",
      "100 \t\t 0.649 \n"
     ]
    },
    {
     "data": {
      "image/png": "[encoded data removed]",
      "text/plain": [
       "<Figure size 720x720 with 1 Axes>"
      ]
     },
     "metadata": {},
     "output_type": "display_data"
    }
   ],
   "source": [
    "Classifier('Complement_Naive_Bayes',tfidfVecTrain_TS, AmazonReviewDataSampledTrain['Score'])"
   ]
  },
  {
   "cell_type": "markdown",
   "metadata": {},
   "source": [
    "# Optimal value of Alpha is 0.01"
   ]
  },
  {
   "cell_type": "code",
   "execution_count": 201,
   "metadata": {},
   "outputs": [
    {
     "name": "stdout",
     "output_type": "stream",
     "text": [
      "Optimal Alpha \tAUC \t\tTPR \t\tTNR\n",
      "0.01 \t\t0.822 \t\t96.580 \t\t67.813\n"
     ]
    }
   ],
   "source": [
    "NaiveBayesClassifeir('Complement_Naive_Bayes',tfidfVecTrain_TS,AmazonReviewDataSampledTrain['Score'],tfidfVecTest_TS,AmazonReviewDataSampledTest['Score'], 0.01)"
   ]
  },
  {
   "cell_type": "code",
   "execution_count": 213,
   "metadata": {},
   "outputs": [
    {
     "name": "stdout",
     "output_type": "stream",
     "text": [
      "Table 2: Table showing the vectorizer, corresponding values of alpha and accuracy of the Naive Bayes classifeir trained using imbalanced Dataset\n",
      "\n",
      "Vectorizer                  Type Of Naive Bayes Classifier     Optimal value of alpha    AUC    TPR     TNR\n",
      "--------------------------  --------------------------------  ------------------------  -----  ------  ------\n",
      "BOW (using Text only)       Multinomial Naive Bayes                     0.1             0.821  93.578  70.701\n",
      "BOW (using Text only)       Complement Naive Bayes                      0.1             0.846  87.849  81.245\n",
      "TFIDF (using Text only)     Multinomial Naive Bayes                     0.1             0.565  99.905  13.036\n",
      "TFIDF (using Text only)     Complement Naive Bayes                      0.1             0.702  99.134  41.338\n",
      "BOW (using Text+Summary)    Multinomial Naive Bayes                     0.1             0.842  94.318  74.161\n",
      "BOW (using Text+Summary)    Complement Naive Bayes                      0.1             0.873  90.708  83.822\n",
      "TFIDF (using Text+Summary)  Multinomial Naive Bayes                     0.01            0.712  99.205  43.121\n",
      "TFIDF (using Text+Summary)  Complement Naive Bayes                      0.01            0.822  96.58   67.813\n"
     ]
    }
   ],
   "source": [
    "print('Table 2: Table showing the vectorizer, corresponding values of alpha and accuracy of the Naive Bayes classifeir trained using imbalanced Dataset\\n')\n",
    "table = [['BOW (using Text only) ','Multinomial Naive Bayes', 0.1,0.821,93.578,70.701],['BOW (using Text only)','Complement Naive Bayes', 0.1,0.846,87.849,81.245],['TFIDF (using Text only)','Multinomial Naive Bayes',0.1,0.565,99.905,13.036],['TFIDF (using Text only)','Complement Naive Bayes',0.1,0.702,99.134,41.338],['BOW (using Text+Summary)','Multinomial Naive Bayes', 0.1,0.842,94.318,74.161],['BOW (using Text+Summary)','Complement Naive Bayes', 0.1,0.873,90.708,83.822],['TFIDF (using Text+Summary)','Multinomial Naive Bayes',0.01,0.712,99.205,43.121],['TFIDF (using Text+Summary)','Complement Naive Bayes',0.01,0.822,96.58,67.813]]\n",
    "headers = ['Vectorizer ', 'Type Of Naive Bayes Classifier', 'Optimal value of alpha', 'AUC', 'TPR','TNR']\n",
    "print (tab(table, headers, numalign = 'center'))"
   ]
  },
  {
   "cell_type": "markdown",
   "metadata": {},
   "source": [
    "# Conclusion:\n",
    "** From the above table we see that, Complement Naive bayes performs well as compared to multinomial naive bayes, its because complement naive bayes does not take into consideration the probability of the class label while multinomial naive does take into consideration the probability of the class label. Hence if the dataset is an imbalance dataset, multinomial naive bayes is more baised towards the majority class, thats what is evident in the above analysis. We also observe that, by including the summary of the dataset, it was possible to increase the True Negative rate. Bag of words performs better as compared to TFIDF using both multinomial or complement naive bayes. **\n",
    "\n",
    "** Therefore, we can conclude that for text classification using naive bayes classifier, its better to prefer complement naive bayes if the dataset is imbalance. Also we can improve the performance of the model by using other features from the dataset, like in our case, the model performance improved when summary and text was used for classification.**"
   ]
  },
  {
   "cell_type": "markdown",
   "metadata": {},
   "source": [
    "# END"
   ]
  }
 ],
 "metadata": {
  "kernelspec": {
   "display_name": "Python 3",
   "language": "python",
   "name": "python3"
  },
  "language_info": {
   "codemirror_mode": {
    "name": "ipython",
    "version": 3
   },
   "file_extension": ".py",
   "mimetype": "text/x-python",
   "name": "python",
   "nbconvert_exporter": "python",
   "pygments_lexer": "ipython3",
   "version": "3.6.5"
  }
 },
 "nbformat": 4,
 "nbformat_minor": 2
}
